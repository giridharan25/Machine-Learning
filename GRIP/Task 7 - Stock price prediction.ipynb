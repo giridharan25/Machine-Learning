{
 "cells": [
  {
   "cell_type": "markdown",
   "metadata": {},
   "source": [
    "#  The Spark Foundation - GRIP Program"
   ]
  },
  {
   "cell_type": "markdown",
   "metadata": {},
   "source": [
    "# Data Science and Business Analytics"
   ]
  },
  {
   "cell_type": "markdown",
   "metadata": {},
   "source": [
    "# Intern : Giridharan S"
   ]
  },
  {
   "cell_type": "markdown",
   "metadata": {},
   "source": [
    "# Task 7 - Stock Market Prediction using Numerical and Textual Analysis"
   ]
  },
  {
   "cell_type": "markdown",
   "metadata": {},
   "source": [
    "# (i) Stock Market Prediction using Textual Analysis"
   ]
  },
  {
   "cell_type": "markdown",
   "metadata": {},
   "source": [
    "Our task is to predict whether the stock price will increase or decrease based on the financial news"
   ]
  },
  {
   "cell_type": "markdown",
   "metadata": {},
   "source": [
    "### Importing necessary libraries"
   ]
  },
  {
   "cell_type": "code",
   "execution_count": 1,
   "metadata": {},
   "outputs": [],
   "source": [
    "import pandas as pd\n",
    "import matplotlib.pyplot as plt\n",
    "%matplotlib inline\n",
    "import numpy as np"
   ]
  },
  {
   "cell_type": "markdown",
   "metadata": {},
   "source": [
    "### Importing the dataset from a github account."
   ]
  },
  {
   "cell_type": "code",
   "execution_count": 2,
   "metadata": {},
   "outputs": [
    {
     "data": {
      "text/html": [
       "<div>\n",
       "<style scoped>\n",
       "    .dataframe tbody tr th:only-of-type {\n",
       "        vertical-align: middle;\n",
       "    }\n",
       "\n",
       "    .dataframe tbody tr th {\n",
       "        vertical-align: top;\n",
       "    }\n",
       "\n",
       "    .dataframe thead th {\n",
       "        text-align: right;\n",
       "    }\n",
       "</style>\n",
       "<table border=\"1\" class=\"dataframe\">\n",
       "  <thead>\n",
       "    <tr style=\"text-align: right;\">\n",
       "      <th></th>\n",
       "      <th>Date</th>\n",
       "      <th>Label</th>\n",
       "      <th>Top1</th>\n",
       "      <th>Top2</th>\n",
       "      <th>Top3</th>\n",
       "      <th>Top4</th>\n",
       "      <th>Top5</th>\n",
       "      <th>Top6</th>\n",
       "      <th>Top7</th>\n",
       "      <th>Top8</th>\n",
       "      <th>...</th>\n",
       "      <th>Top16</th>\n",
       "      <th>Top17</th>\n",
       "      <th>Top18</th>\n",
       "      <th>Top19</th>\n",
       "      <th>Top20</th>\n",
       "      <th>Top21</th>\n",
       "      <th>Top22</th>\n",
       "      <th>Top23</th>\n",
       "      <th>Top24</th>\n",
       "      <th>Top25</th>\n",
       "    </tr>\n",
       "  </thead>\n",
       "  <tbody>\n",
       "    <tr>\n",
       "      <th>0</th>\n",
       "      <td>2000-01-03</td>\n",
       "      <td>0</td>\n",
       "      <td>A 'hindrance to operations': extracts from the...</td>\n",
       "      <td>Scorecard</td>\n",
       "      <td>Hughes' instant hit buoys Blues</td>\n",
       "      <td>Jack gets his skates on at ice-cold Alex</td>\n",
       "      <td>Chaos as Maracana builds up for United</td>\n",
       "      <td>Depleted Leicester prevail as Elliott spoils E...</td>\n",
       "      <td>Hungry Spurs sense rich pickings</td>\n",
       "      <td>Gunners so wide of an easy target</td>\n",
       "      <td>...</td>\n",
       "      <td>Flintoff injury piles on woe for England</td>\n",
       "      <td>Hunters threaten Jospin with new battle of the...</td>\n",
       "      <td>Kohl's successor drawn into scandal</td>\n",
       "      <td>The difference between men and women</td>\n",
       "      <td>Sara Denver, nurse turned solicitor</td>\n",
       "      <td>Diana's landmine crusade put Tories in a panic</td>\n",
       "      <td>Yeltsin's resignation caught opposition flat-f...</td>\n",
       "      <td>Russian roulette</td>\n",
       "      <td>Sold out</td>\n",
       "      <td>Recovering a title</td>\n",
       "    </tr>\n",
       "    <tr>\n",
       "      <th>1</th>\n",
       "      <td>2000-01-04</td>\n",
       "      <td>0</td>\n",
       "      <td>Scorecard</td>\n",
       "      <td>The best lake scene</td>\n",
       "      <td>Leader: German sleaze inquiry</td>\n",
       "      <td>Cheerio, boyo</td>\n",
       "      <td>The main recommendations</td>\n",
       "      <td>Has Cubie killed fees?</td>\n",
       "      <td>Has Cubie killed fees?</td>\n",
       "      <td>Has Cubie killed fees?</td>\n",
       "      <td>...</td>\n",
       "      <td>On the critical list</td>\n",
       "      <td>The timing of their lives</td>\n",
       "      <td>Dear doctor</td>\n",
       "      <td>Irish court halts IRA man's extradition to Nor...</td>\n",
       "      <td>Burundi peace initiative fades after rebels re...</td>\n",
       "      <td>PE points the way forward to the ECB</td>\n",
       "      <td>Campaigners keep up pressure on Nazi war crime...</td>\n",
       "      <td>Jane Ratcliffe</td>\n",
       "      <td>Yet more things you wouldn't know without the ...</td>\n",
       "      <td>Millennium bug fails to bite</td>\n",
       "    </tr>\n",
       "  </tbody>\n",
       "</table>\n",
       "<p>2 rows × 27 columns</p>\n",
       "</div>"
      ],
      "text/plain": [
       "         Date  Label                                               Top1  \\\n",
       "0  2000-01-03      0  A 'hindrance to operations': extracts from the...   \n",
       "1  2000-01-04      0                                          Scorecard   \n",
       "\n",
       "                  Top2                             Top3  \\\n",
       "0            Scorecard  Hughes' instant hit buoys Blues   \n",
       "1  The best lake scene    Leader: German sleaze inquiry   \n",
       "\n",
       "                                       Top4  \\\n",
       "0  Jack gets his skates on at ice-cold Alex   \n",
       "1                             Cheerio, boyo   \n",
       "\n",
       "                                     Top5  \\\n",
       "0  Chaos as Maracana builds up for United   \n",
       "1                The main recommendations   \n",
       "\n",
       "                                                Top6  \\\n",
       "0  Depleted Leicester prevail as Elliott spoils E...   \n",
       "1                             Has Cubie killed fees?   \n",
       "\n",
       "                               Top7                               Top8  ...  \\\n",
       "0  Hungry Spurs sense rich pickings  Gunners so wide of an easy target  ...   \n",
       "1            Has Cubie killed fees?             Has Cubie killed fees?  ...   \n",
       "\n",
       "                                      Top16  \\\n",
       "0  Flintoff injury piles on woe for England   \n",
       "1                      On the critical list   \n",
       "\n",
       "                                               Top17  \\\n",
       "0  Hunters threaten Jospin with new battle of the...   \n",
       "1                          The timing of their lives   \n",
       "\n",
       "                                 Top18  \\\n",
       "0  Kohl's successor drawn into scandal   \n",
       "1                          Dear doctor   \n",
       "\n",
       "                                               Top19  \\\n",
       "0               The difference between men and women   \n",
       "1  Irish court halts IRA man's extradition to Nor...   \n",
       "\n",
       "                                               Top20  \\\n",
       "0                Sara Denver, nurse turned solicitor   \n",
       "1  Burundi peace initiative fades after rebels re...   \n",
       "\n",
       "                                            Top21  \\\n",
       "0  Diana's landmine crusade put Tories in a panic   \n",
       "1            PE points the way forward to the ECB   \n",
       "\n",
       "                                               Top22             Top23  \\\n",
       "0  Yeltsin's resignation caught opposition flat-f...  Russian roulette   \n",
       "1  Campaigners keep up pressure on Nazi war crime...    Jane Ratcliffe   \n",
       "\n",
       "                                               Top24  \\\n",
       "0                                           Sold out   \n",
       "1  Yet more things you wouldn't know without the ...   \n",
       "\n",
       "                          Top25  \n",
       "0            Recovering a title  \n",
       "1  Millennium bug fails to bite  \n",
       "\n",
       "[2 rows x 27 columns]"
      ]
     },
     "execution_count": 2,
     "metadata": {},
     "output_type": "execute_result"
    }
   ],
   "source": [
    "url='https://raw.githubusercontent.com/krishnaik06/Stock-Sentiment-Analysis/master/Data.csv'\n",
    "df = pd.read_csv(url, encoding='ISO-8859-1')\n",
    "df.head(2)"
   ]
  },
  {
   "cell_type": "code",
   "execution_count": 3,
   "metadata": {},
   "outputs": [
    {
     "data": {
      "text/html": [
       "<div>\n",
       "<style scoped>\n",
       "    .dataframe tbody tr th:only-of-type {\n",
       "        vertical-align: middle;\n",
       "    }\n",
       "\n",
       "    .dataframe tbody tr th {\n",
       "        vertical-align: top;\n",
       "    }\n",
       "\n",
       "    .dataframe thead th {\n",
       "        text-align: right;\n",
       "    }\n",
       "</style>\n",
       "<table border=\"1\" class=\"dataframe\">\n",
       "  <thead>\n",
       "    <tr style=\"text-align: right;\">\n",
       "      <th></th>\n",
       "      <th>Date</th>\n",
       "      <th>Label</th>\n",
       "      <th>Top1</th>\n",
       "      <th>Top2</th>\n",
       "      <th>Top3</th>\n",
       "      <th>Top4</th>\n",
       "      <th>Top5</th>\n",
       "      <th>Top6</th>\n",
       "      <th>Top7</th>\n",
       "      <th>Top8</th>\n",
       "      <th>...</th>\n",
       "      <th>Top16</th>\n",
       "      <th>Top17</th>\n",
       "      <th>Top18</th>\n",
       "      <th>Top19</th>\n",
       "      <th>Top20</th>\n",
       "      <th>Top21</th>\n",
       "      <th>Top22</th>\n",
       "      <th>Top23</th>\n",
       "      <th>Top24</th>\n",
       "      <th>Top25</th>\n",
       "    </tr>\n",
       "  </thead>\n",
       "  <tbody>\n",
       "    <tr>\n",
       "      <th>4099</th>\n",
       "      <td>2016-06-30</td>\n",
       "      <td>1</td>\n",
       "      <td>Jamaica proposes marijuana dispensers for tour...</td>\n",
       "      <td>Stephen Hawking says pollution and 'stupidity'...</td>\n",
       "      <td>Boris Johnson says he will not run for Tory pa...</td>\n",
       "      <td>Six gay men in Ivory Coast were abused and for...</td>\n",
       "      <td>Switzerland denies citizenship to Muslim immig...</td>\n",
       "      <td>Palestinian terrorist stabs israeli teen girl ...</td>\n",
       "      <td>Puerto Rico will default on $1 billion of debt...</td>\n",
       "      <td>Republic of Ireland fans to be awarded medal f...</td>\n",
       "      <td>...</td>\n",
       "      <td>Googles free wifi at Indian railway stations i...</td>\n",
       "      <td>Mounting evidence suggests 'hobbits' were wipe...</td>\n",
       "      <td>The men who carried out Tuesday's terror attac...</td>\n",
       "      <td>Calls to suspend Saudi Arabia from UN Human Ri...</td>\n",
       "      <td>More Than 100 Nobel Laureates Call Out Greenpe...</td>\n",
       "      <td>British pedophile sentenced to 85 years in US ...</td>\n",
       "      <td>US permitted 1,200 offshore fracks in Gulf of ...</td>\n",
       "      <td>We will be swimming in ridicule - French beach...</td>\n",
       "      <td>UEFA says no minutes of silence for Istanbul v...</td>\n",
       "      <td>Law Enforcement Sources: Gun Used in Paris Ter...</td>\n",
       "    </tr>\n",
       "    <tr>\n",
       "      <th>4100</th>\n",
       "      <td>2016-07-01</td>\n",
       "      <td>1</td>\n",
       "      <td>A 117-year-old woman in Mexico City finally re...</td>\n",
       "      <td>IMF chief backs Athens as permanent Olympic host</td>\n",
       "      <td>The president of France says if Brexit won, so...</td>\n",
       "      <td>British Man Who Must Give Police 24 Hours' Not...</td>\n",
       "      <td>100+ Nobel laureates urge Greenpeace to stop o...</td>\n",
       "      <td>Brazil: Huge spike in number of police killing...</td>\n",
       "      <td>Austria's highest court annuls presidential el...</td>\n",
       "      <td>Facebook wins privacy case, can track any Belg...</td>\n",
       "      <td>...</td>\n",
       "      <td>The United States has placed Myanmar, Uzbekist...</td>\n",
       "      <td>S&amp;amp;P revises European Union credit rating t...</td>\n",
       "      <td>India gets $1 billion loan from World Bank for...</td>\n",
       "      <td>U.S. sailors detained by Iran spoke too much u...</td>\n",
       "      <td>Mass fish kill in Vietnam solved as Taiwan ste...</td>\n",
       "      <td>Philippines president Rodrigo Duterte urges pe...</td>\n",
       "      <td>Spain arrests three Pakistanis accused of prom...</td>\n",
       "      <td>Venezuela, where anger over food shortages is ...</td>\n",
       "      <td>A Hindu temple worker has been killed by three...</td>\n",
       "      <td>Ozone layer hole seems to be healing - US &amp;amp...</td>\n",
       "    </tr>\n",
       "  </tbody>\n",
       "</table>\n",
       "<p>2 rows × 27 columns</p>\n",
       "</div>"
      ],
      "text/plain": [
       "            Date  Label                                               Top1  \\\n",
       "4099  2016-06-30      1  Jamaica proposes marijuana dispensers for tour...   \n",
       "4100  2016-07-01      1  A 117-year-old woman in Mexico City finally re...   \n",
       "\n",
       "                                                   Top2  \\\n",
       "4099  Stephen Hawking says pollution and 'stupidity'...   \n",
       "4100   IMF chief backs Athens as permanent Olympic host   \n",
       "\n",
       "                                                   Top3  \\\n",
       "4099  Boris Johnson says he will not run for Tory pa...   \n",
       "4100  The president of France says if Brexit won, so...   \n",
       "\n",
       "                                                   Top4  \\\n",
       "4099  Six gay men in Ivory Coast were abused and for...   \n",
       "4100  British Man Who Must Give Police 24 Hours' Not...   \n",
       "\n",
       "                                                   Top5  \\\n",
       "4099  Switzerland denies citizenship to Muslim immig...   \n",
       "4100  100+ Nobel laureates urge Greenpeace to stop o...   \n",
       "\n",
       "                                                   Top6  \\\n",
       "4099  Palestinian terrorist stabs israeli teen girl ...   \n",
       "4100  Brazil: Huge spike in number of police killing...   \n",
       "\n",
       "                                                   Top7  \\\n",
       "4099  Puerto Rico will default on $1 billion of debt...   \n",
       "4100  Austria's highest court annuls presidential el...   \n",
       "\n",
       "                                                   Top8  ...  \\\n",
       "4099  Republic of Ireland fans to be awarded medal f...  ...   \n",
       "4100  Facebook wins privacy case, can track any Belg...  ...   \n",
       "\n",
       "                                                  Top16  \\\n",
       "4099  Googles free wifi at Indian railway stations i...   \n",
       "4100  The United States has placed Myanmar, Uzbekist...   \n",
       "\n",
       "                                                  Top17  \\\n",
       "4099  Mounting evidence suggests 'hobbits' were wipe...   \n",
       "4100  S&amp;P revises European Union credit rating t...   \n",
       "\n",
       "                                                  Top18  \\\n",
       "4099  The men who carried out Tuesday's terror attac...   \n",
       "4100  India gets $1 billion loan from World Bank for...   \n",
       "\n",
       "                                                  Top19  \\\n",
       "4099  Calls to suspend Saudi Arabia from UN Human Ri...   \n",
       "4100  U.S. sailors detained by Iran spoke too much u...   \n",
       "\n",
       "                                                  Top20  \\\n",
       "4099  More Than 100 Nobel Laureates Call Out Greenpe...   \n",
       "4100  Mass fish kill in Vietnam solved as Taiwan ste...   \n",
       "\n",
       "                                                  Top21  \\\n",
       "4099  British pedophile sentenced to 85 years in US ...   \n",
       "4100  Philippines president Rodrigo Duterte urges pe...   \n",
       "\n",
       "                                                  Top22  \\\n",
       "4099  US permitted 1,200 offshore fracks in Gulf of ...   \n",
       "4100  Spain arrests three Pakistanis accused of prom...   \n",
       "\n",
       "                                                  Top23  \\\n",
       "4099  We will be swimming in ridicule - French beach...   \n",
       "4100  Venezuela, where anger over food shortages is ...   \n",
       "\n",
       "                                                  Top24  \\\n",
       "4099  UEFA says no minutes of silence for Istanbul v...   \n",
       "4100  A Hindu temple worker has been killed by three...   \n",
       "\n",
       "                                                  Top25  \n",
       "4099  Law Enforcement Sources: Gun Used in Paris Ter...  \n",
       "4100  Ozone layer hole seems to be healing - US &amp...  \n",
       "\n",
       "[2 rows x 27 columns]"
      ]
     },
     "execution_count": 3,
     "metadata": {},
     "output_type": "execute_result"
    }
   ],
   "source": [
    "df.tail(2)"
   ]
  },
  {
   "cell_type": "markdown",
   "metadata": {},
   "source": [
    "### Splitting the dataset into training and testing dataset"
   ]
  },
  {
   "cell_type": "code",
   "execution_count": 4,
   "metadata": {},
   "outputs": [],
   "source": [
    "train = df[df['Date'] < '20150101']\n",
    "test = df[df['Date'] > '20141231']"
   ]
  },
  {
   "cell_type": "markdown",
   "metadata": {},
   "source": [
    "### Data-preprocessing Techniques"
   ]
  },
  {
   "cell_type": "markdown",
   "metadata": {},
   "source": [
    "- replacing the special characters with ' ' (empty string)\n",
    "- changing the column names as index for easy access"
   ]
  },
  {
   "cell_type": "code",
   "execution_count": 5,
   "metadata": {},
   "outputs": [
    {
     "data": {
      "text/html": [
       "<div>\n",
       "<style scoped>\n",
       "    .dataframe tbody tr th:only-of-type {\n",
       "        vertical-align: middle;\n",
       "    }\n",
       "\n",
       "    .dataframe tbody tr th {\n",
       "        vertical-align: top;\n",
       "    }\n",
       "\n",
       "    .dataframe thead th {\n",
       "        text-align: right;\n",
       "    }\n",
       "</style>\n",
       "<table border=\"1\" class=\"dataframe\">\n",
       "  <thead>\n",
       "    <tr style=\"text-align: right;\">\n",
       "      <th></th>\n",
       "      <th>0</th>\n",
       "      <th>1</th>\n",
       "      <th>2</th>\n",
       "      <th>3</th>\n",
       "      <th>4</th>\n",
       "      <th>5</th>\n",
       "      <th>6</th>\n",
       "      <th>7</th>\n",
       "      <th>8</th>\n",
       "      <th>9</th>\n",
       "      <th>...</th>\n",
       "      <th>15</th>\n",
       "      <th>16</th>\n",
       "      <th>17</th>\n",
       "      <th>18</th>\n",
       "      <th>19</th>\n",
       "      <th>20</th>\n",
       "      <th>21</th>\n",
       "      <th>22</th>\n",
       "      <th>23</th>\n",
       "      <th>24</th>\n",
       "    </tr>\n",
       "  </thead>\n",
       "  <tbody>\n",
       "    <tr>\n",
       "      <th>0</th>\n",
       "      <td>A  hindrance to operations   extracts from the...</td>\n",
       "      <td>Scorecard</td>\n",
       "      <td>Hughes  instant hit buoys Blues</td>\n",
       "      <td>Jack gets his skates on at ice cold Alex</td>\n",
       "      <td>Chaos as Maracana builds up for United</td>\n",
       "      <td>Depleted Leicester prevail as Elliott spoils E...</td>\n",
       "      <td>Hungry Spurs sense rich pickings</td>\n",
       "      <td>Gunners so wide of an easy target</td>\n",
       "      <td>Derby raise a glass to Strupar s debut double</td>\n",
       "      <td>Southgate strikes  Leeds pay the penalty</td>\n",
       "      <td>...</td>\n",
       "      <td>Flintoff injury piles on woe for England</td>\n",
       "      <td>Hunters threaten Jospin with new battle of the...</td>\n",
       "      <td>Kohl s successor drawn into scandal</td>\n",
       "      <td>The difference between men and women</td>\n",
       "      <td>Sara Denver  nurse turned solicitor</td>\n",
       "      <td>Diana s landmine crusade put Tories in a panic</td>\n",
       "      <td>Yeltsin s resignation caught opposition flat f...</td>\n",
       "      <td>Russian roulette</td>\n",
       "      <td>Sold out</td>\n",
       "      <td>Recovering a title</td>\n",
       "    </tr>\n",
       "    <tr>\n",
       "      <th>1</th>\n",
       "      <td>Scorecard</td>\n",
       "      <td>The best lake scene</td>\n",
       "      <td>Leader  German sleaze inquiry</td>\n",
       "      <td>Cheerio  boyo</td>\n",
       "      <td>The main recommendations</td>\n",
       "      <td>Has Cubie killed fees</td>\n",
       "      <td>Has Cubie killed fees</td>\n",
       "      <td>Has Cubie killed fees</td>\n",
       "      <td>Hopkins  furious  at Foster s lack of Hannibal...</td>\n",
       "      <td>Has Cubie killed fees</td>\n",
       "      <td>...</td>\n",
       "      <td>On the critical list</td>\n",
       "      <td>The timing of their lives</td>\n",
       "      <td>Dear doctor</td>\n",
       "      <td>Irish court halts IRA man s extradition to Nor...</td>\n",
       "      <td>Burundi peace initiative fades after rebels re...</td>\n",
       "      <td>PE points the way forward to the ECB</td>\n",
       "      <td>Campaigners keep up pressure on Nazi war crime...</td>\n",
       "      <td>Jane Ratcliffe</td>\n",
       "      <td>Yet more things you wouldn t know without the ...</td>\n",
       "      <td>Millennium bug fails to bite</td>\n",
       "    </tr>\n",
       "    <tr>\n",
       "      <th>2</th>\n",
       "      <td>Coventry caught on counter by Flo</td>\n",
       "      <td>United s rivals on the road to Rio</td>\n",
       "      <td>Thatcher issues defence before trial by video</td>\n",
       "      <td>Police help Smith lay down the law at Everton</td>\n",
       "      <td>Tale of Trautmann bears two more retellings</td>\n",
       "      <td>England on the rack</td>\n",
       "      <td>Pakistan retaliate with call for video of Walsh</td>\n",
       "      <td>Cullinan continues his Cape monopoly</td>\n",
       "      <td>McGrath puts India out of their misery</td>\n",
       "      <td>Blair Witch bandwagon rolls on</td>\n",
       "      <td>...</td>\n",
       "      <td>South Melbourne  Australia</td>\n",
       "      <td>Necaxa  Mexico</td>\n",
       "      <td>Real Madrid  Spain</td>\n",
       "      <td>Raja Casablanca  Morocco</td>\n",
       "      <td>Corinthians  Brazil</td>\n",
       "      <td>Tony s pet project</td>\n",
       "      <td>Al Nassr  Saudi Arabia</td>\n",
       "      <td>Ideal Holmes show</td>\n",
       "      <td>Pinochet leaves hospital after tests</td>\n",
       "      <td>Useful links</td>\n",
       "    </tr>\n",
       "    <tr>\n",
       "      <th>3</th>\n",
       "      <td>Pilgrim knows how to progress</td>\n",
       "      <td>Thatcher facing ban</td>\n",
       "      <td>McIlroy calls for Irish fighting spirit</td>\n",
       "      <td>Leicester bin stadium blueprint</td>\n",
       "      <td>United braced for Mexican wave</td>\n",
       "      <td>Auntie back in fashion  even if the dress look...</td>\n",
       "      <td>Shoaib appeal goes to the top</td>\n",
       "      <td>Hussain hurt by  shambles  but lays blame on e...</td>\n",
       "      <td>England s decade of disasters</td>\n",
       "      <td>Revenge is sweet for jubilant Cronje</td>\n",
       "      <td>...</td>\n",
       "      <td>Putin admits Yeltsin quit to give him a head s...</td>\n",
       "      <td>BBC worst hit as digital TV begins to bite</td>\n",
       "      <td>How much can you pay for</td>\n",
       "      <td>Christmas glitches</td>\n",
       "      <td>Upending a table  Chopping a line and Scoring ...</td>\n",
       "      <td>Scientific evidence  unreliable   defence claims</td>\n",
       "      <td>Fusco wins judicial review in extradition case</td>\n",
       "      <td>Rebels thwart Russian advance</td>\n",
       "      <td>Blair orders shake up of failing NHS</td>\n",
       "      <td>Lessons of law s hard heart</td>\n",
       "    </tr>\n",
       "    <tr>\n",
       "      <th>4</th>\n",
       "      <td>Hitches and Horlocks</td>\n",
       "      <td>Beckham off but United survive</td>\n",
       "      <td>Breast cancer screening</td>\n",
       "      <td>Alan Parker</td>\n",
       "      <td>Guardian readers  are you all whingers</td>\n",
       "      <td>Hollywood Beyond</td>\n",
       "      <td>Ashes and diamonds</td>\n",
       "      <td>Whingers   a formidable minority</td>\n",
       "      <td>Alan Parker   part two</td>\n",
       "      <td>Thuggery  Toxins and Ties</td>\n",
       "      <td>...</td>\n",
       "      <td>Most everywhere   UDIs</td>\n",
       "      <td>Most wanted   Chloe lunettes</td>\n",
       "      <td>Return of the cane  completely off the agenda</td>\n",
       "      <td>From Sleepy Hollow to Greeneland</td>\n",
       "      <td>Blunkett outlines vision for over   s</td>\n",
       "      <td>Embattled Dobson attacks  play now  pay later ...</td>\n",
       "      <td>Doom and the Dome</td>\n",
       "      <td>What is the north south divide</td>\n",
       "      <td>Aitken released from jail</td>\n",
       "      <td>Gone aloft</td>\n",
       "    </tr>\n",
       "  </tbody>\n",
       "</table>\n",
       "<p>5 rows × 25 columns</p>\n",
       "</div>"
      ],
      "text/plain": [
       "                                                   0  \\\n",
       "0  A  hindrance to operations   extracts from the...   \n",
       "1                                          Scorecard   \n",
       "2                  Coventry caught on counter by Flo   \n",
       "3                      Pilgrim knows how to progress   \n",
       "4                               Hitches and Horlocks   \n",
       "\n",
       "                                    1  \\\n",
       "0                           Scorecard   \n",
       "1                 The best lake scene   \n",
       "2  United s rivals on the road to Rio   \n",
       "3                 Thatcher facing ban   \n",
       "4      Beckham off but United survive   \n",
       "\n",
       "                                               2  \\\n",
       "0                Hughes  instant hit buoys Blues   \n",
       "1                  Leader  German sleaze inquiry   \n",
       "2  Thatcher issues defence before trial by video   \n",
       "3        McIlroy calls for Irish fighting spirit   \n",
       "4                        Breast cancer screening   \n",
       "\n",
       "                                               3  \\\n",
       "0       Jack gets his skates on at ice cold Alex   \n",
       "1                                  Cheerio  boyo   \n",
       "2  Police help Smith lay down the law at Everton   \n",
       "3                Leicester bin stadium blueprint   \n",
       "4                                    Alan Parker   \n",
       "\n",
       "                                             4  \\\n",
       "0       Chaos as Maracana builds up for United   \n",
       "1                     The main recommendations   \n",
       "2  Tale of Trautmann bears two more retellings   \n",
       "3               United braced for Mexican wave   \n",
       "4      Guardian readers  are you all whingers    \n",
       "\n",
       "                                                   5  \\\n",
       "0  Depleted Leicester prevail as Elliott spoils E...   \n",
       "1                             Has Cubie killed fees    \n",
       "2                                England on the rack   \n",
       "3  Auntie back in fashion  even if the dress look...   \n",
       "4                                   Hollywood Beyond   \n",
       "\n",
       "                                                 6  \\\n",
       "0                 Hungry Spurs sense rich pickings   \n",
       "1                           Has Cubie killed fees    \n",
       "2  Pakistan retaliate with call for video of Walsh   \n",
       "3                    Shoaib appeal goes to the top   \n",
       "4                               Ashes and diamonds   \n",
       "\n",
       "                                                   7  \\\n",
       "0                  Gunners so wide of an easy target   \n",
       "1                             Has Cubie killed fees    \n",
       "2               Cullinan continues his Cape monopoly   \n",
       "3  Hussain hurt by  shambles  but lays blame on e...   \n",
       "4                   Whingers   a formidable minority   \n",
       "\n",
       "                                                   8  \\\n",
       "0      Derby raise a glass to Strupar s debut double   \n",
       "1  Hopkins  furious  at Foster s lack of Hannibal...   \n",
       "2             McGrath puts India out of their misery   \n",
       "3                      England s decade of disasters   \n",
       "4                             Alan Parker   part two   \n",
       "\n",
       "                                          9  ...  \\\n",
       "0  Southgate strikes  Leeds pay the penalty  ...   \n",
       "1                    Has Cubie killed fees   ...   \n",
       "2            Blair Witch bandwagon rolls on  ...   \n",
       "3      Revenge is sweet for jubilant Cronje  ...   \n",
       "4                 Thuggery  Toxins and Ties  ...   \n",
       "\n",
       "                                                  15  \\\n",
       "0           Flintoff injury piles on woe for England   \n",
       "1                               On the critical list   \n",
       "2                        South Melbourne  Australia    \n",
       "3  Putin admits Yeltsin quit to give him a head s...   \n",
       "4                             Most everywhere   UDIs   \n",
       "\n",
       "                                                  16  \\\n",
       "0  Hunters threaten Jospin with new battle of the...   \n",
       "1                          The timing of their lives   \n",
       "2                                    Necaxa  Mexico    \n",
       "3         BBC worst hit as digital TV begins to bite   \n",
       "4                       Most wanted   Chloe lunettes   \n",
       "\n",
       "                                               17  \\\n",
       "0             Kohl s successor drawn into scandal   \n",
       "1                                     Dear doctor   \n",
       "2                             Real Madrid  Spain    \n",
       "3                     How much can you pay for      \n",
       "4  Return of the cane  completely off the agenda    \n",
       "\n",
       "                                                  18  \\\n",
       "0               The difference between men and women   \n",
       "1  Irish court halts IRA man s extradition to Nor...   \n",
       "2                          Raja Casablanca  Morocco    \n",
       "3                                 Christmas glitches   \n",
       "4                   From Sleepy Hollow to Greeneland   \n",
       "\n",
       "                                                  19  \\\n",
       "0                Sara Denver  nurse turned solicitor   \n",
       "1  Burundi peace initiative fades after rebels re...   \n",
       "2                               Corinthians  Brazil    \n",
       "3  Upending a table  Chopping a line and Scoring ...   \n",
       "4              Blunkett outlines vision for over   s   \n",
       "\n",
       "                                                  20  \\\n",
       "0     Diana s landmine crusade put Tories in a panic   \n",
       "1               PE points the way forward to the ECB   \n",
       "2                                 Tony s pet project   \n",
       "3   Scientific evidence  unreliable   defence claims   \n",
       "4  Embattled Dobson attacks  play now  pay later ...   \n",
       "\n",
       "                                                  21  \\\n",
       "0  Yeltsin s resignation caught opposition flat f...   \n",
       "1  Campaigners keep up pressure on Nazi war crime...   \n",
       "2                            Al Nassr  Saudi Arabia    \n",
       "3     Fusco wins judicial review in extradition case   \n",
       "4                                  Doom and the Dome   \n",
       "\n",
       "                                22  \\\n",
       "0                 Russian roulette   \n",
       "1                   Jane Ratcliffe   \n",
       "2                Ideal Holmes show   \n",
       "3    Rebels thwart Russian advance   \n",
       "4  What is the north south divide    \n",
       "\n",
       "                                                  23  \\\n",
       "0                                           Sold out   \n",
       "1  Yet more things you wouldn t know without the ...   \n",
       "2               Pinochet leaves hospital after tests   \n",
       "3               Blair orders shake up of failing NHS   \n",
       "4                          Aitken released from jail   \n",
       "\n",
       "                             24  \n",
       "0            Recovering a title  \n",
       "1  Millennium bug fails to bite  \n",
       "2                  Useful links  \n",
       "3   Lessons of law s hard heart  \n",
       "4                    Gone aloft  \n",
       "\n",
       "[5 rows x 25 columns]"
      ]
     },
     "execution_count": 5,
     "metadata": {},
     "output_type": "execute_result"
    }
   ],
   "source": [
    "data = train.iloc[:,2:27]\n",
    "data.replace('[^a-zA-Z]',' ',regex=True, inplace=True)\n",
    "\n",
    "l = [i for i in range(25)]\n",
    "new_index = [str(i) for i in l]\n",
    "data.columns = new_index\n",
    "data.head()"
   ]
  },
  {
   "cell_type": "markdown",
   "metadata": {},
   "source": [
    "Changing all the character to lower case for uniformity"
   ]
  },
  {
   "cell_type": "code",
   "execution_count": 6,
   "metadata": {},
   "outputs": [
    {
     "data": {
      "text/html": [
       "<div>\n",
       "<style scoped>\n",
       "    .dataframe tbody tr th:only-of-type {\n",
       "        vertical-align: middle;\n",
       "    }\n",
       "\n",
       "    .dataframe tbody tr th {\n",
       "        vertical-align: top;\n",
       "    }\n",
       "\n",
       "    .dataframe thead th {\n",
       "        text-align: right;\n",
       "    }\n",
       "</style>\n",
       "<table border=\"1\" class=\"dataframe\">\n",
       "  <thead>\n",
       "    <tr style=\"text-align: right;\">\n",
       "      <th></th>\n",
       "      <th>0</th>\n",
       "      <th>1</th>\n",
       "      <th>2</th>\n",
       "      <th>3</th>\n",
       "      <th>4</th>\n",
       "      <th>5</th>\n",
       "      <th>6</th>\n",
       "      <th>7</th>\n",
       "      <th>8</th>\n",
       "      <th>9</th>\n",
       "      <th>...</th>\n",
       "      <th>15</th>\n",
       "      <th>16</th>\n",
       "      <th>17</th>\n",
       "      <th>18</th>\n",
       "      <th>19</th>\n",
       "      <th>20</th>\n",
       "      <th>21</th>\n",
       "      <th>22</th>\n",
       "      <th>23</th>\n",
       "      <th>24</th>\n",
       "    </tr>\n",
       "  </thead>\n",
       "  <tbody>\n",
       "    <tr>\n",
       "      <th>0</th>\n",
       "      <td>a  hindrance to operations   extracts from the...</td>\n",
       "      <td>scorecard</td>\n",
       "      <td>hughes  instant hit buoys blues</td>\n",
       "      <td>jack gets his skates on at ice cold alex</td>\n",
       "      <td>chaos as maracana builds up for united</td>\n",
       "      <td>depleted leicester prevail as elliott spoils e...</td>\n",
       "      <td>hungry spurs sense rich pickings</td>\n",
       "      <td>gunners so wide of an easy target</td>\n",
       "      <td>derby raise a glass to strupar s debut double</td>\n",
       "      <td>southgate strikes  leeds pay the penalty</td>\n",
       "      <td>...</td>\n",
       "      <td>flintoff injury piles on woe for england</td>\n",
       "      <td>hunters threaten jospin with new battle of the...</td>\n",
       "      <td>kohl s successor drawn into scandal</td>\n",
       "      <td>the difference between men and women</td>\n",
       "      <td>sara denver  nurse turned solicitor</td>\n",
       "      <td>diana s landmine crusade put tories in a panic</td>\n",
       "      <td>yeltsin s resignation caught opposition flat f...</td>\n",
       "      <td>russian roulette</td>\n",
       "      <td>sold out</td>\n",
       "      <td>recovering a title</td>\n",
       "    </tr>\n",
       "  </tbody>\n",
       "</table>\n",
       "<p>1 rows × 25 columns</p>\n",
       "</div>"
      ],
      "text/plain": [
       "                                                   0          1  \\\n",
       "0  a  hindrance to operations   extracts from the...  scorecard   \n",
       "\n",
       "                                 2                                         3  \\\n",
       "0  hughes  instant hit buoys blues  jack gets his skates on at ice cold alex   \n",
       "\n",
       "                                        4  \\\n",
       "0  chaos as maracana builds up for united   \n",
       "\n",
       "                                                   5  \\\n",
       "0  depleted leicester prevail as elliott spoils e...   \n",
       "\n",
       "                                  6                                  7  \\\n",
       "0  hungry spurs sense rich pickings  gunners so wide of an easy target   \n",
       "\n",
       "                                               8  \\\n",
       "0  derby raise a glass to strupar s debut double   \n",
       "\n",
       "                                          9  ...  \\\n",
       "0  southgate strikes  leeds pay the penalty  ...   \n",
       "\n",
       "                                         15  \\\n",
       "0  flintoff injury piles on woe for england   \n",
       "\n",
       "                                                  16  \\\n",
       "0  hunters threaten jospin with new battle of the...   \n",
       "\n",
       "                                    17                                    18  \\\n",
       "0  kohl s successor drawn into scandal  the difference between men and women   \n",
       "\n",
       "                                    19  \\\n",
       "0  sara denver  nurse turned solicitor   \n",
       "\n",
       "                                               20  \\\n",
       "0  diana s landmine crusade put tories in a panic   \n",
       "\n",
       "                                                  21                22  \\\n",
       "0  yeltsin s resignation caught opposition flat f...  russian roulette   \n",
       "\n",
       "         23                  24  \n",
       "0  sold out  recovering a title  \n",
       "\n",
       "[1 rows x 25 columns]"
      ]
     },
     "execution_count": 6,
     "metadata": {},
     "output_type": "execute_result"
    }
   ],
   "source": [
    "for index in new_index:\n",
    "    data[index] = data[index].str.lower()\n",
    "data.head(1)"
   ]
  },
  {
   "cell_type": "markdown",
   "metadata": {},
   "source": [
    "### Combining all 25 headlines in a row to form a paragraph and appending it to a list called headlines"
   ]
  },
  {
   "cell_type": "code",
   "execution_count": 7,
   "metadata": {},
   "outputs": [],
   "source": [
    "headlines = []\n",
    "for row in range(0,len(data.index)):\n",
    "    headlines.append(' '.join(str(x) for x in data.iloc[row,0:25]))"
   ]
  },
  {
   "cell_type": "code",
   "execution_count": 8,
   "metadata": {},
   "outputs": [
    {
     "data": {
      "text/plain": [
       "'a  hindrance to operations   extracts from the leaked reports scorecard hughes  instant hit buoys blues jack gets his skates on at ice cold alex chaos as maracana builds up for united depleted leicester prevail as elliott spoils everton s party hungry spurs sense rich pickings gunners so wide of an easy target derby raise a glass to strupar s debut double southgate strikes  leeds pay the penalty hammers hand robson a youthful lesson saints party like it s      wear wolves have turned into lambs stump mike catches testy gough s taunt langer escapes to hit     flintoff injury piles on woe for england hunters threaten jospin with new battle of the somme kohl s successor drawn into scandal the difference between men and women sara denver  nurse turned solicitor diana s landmine crusade put tories in a panic yeltsin s resignation caught opposition flat footed russian roulette sold out recovering a title'"
      ]
     },
     "execution_count": 8,
     "metadata": {},
     "output_type": "execute_result"
    }
   ],
   "source": [
    "headlines[0]"
   ]
  },
  {
   "cell_type": "markdown",
   "metadata": {},
   "source": [
    "### CountVectorizer is a technique used to transform a given text into a vector on the basis of the frequency (count) of each word that occurs in the entire text."
   ]
  },
  {
   "cell_type": "code",
   "execution_count": 9,
   "metadata": {},
   "outputs": [],
   "source": [
    "from sklearn.feature_extraction.text import CountVectorizer\n",
    "from sklearn.ensemble import RandomForestClassifier"
   ]
  },
  {
   "cell_type": "code",
   "execution_count": 10,
   "metadata": {},
   "outputs": [],
   "source": [
    "countvector = CountVectorizer(ngram_range=(2,2))\n",
    "train_dataset = countvector.fit_transform(headlines)"
   ]
  },
  {
   "cell_type": "markdown",
   "metadata": {},
   "source": [
    "### Model creation and Training"
   ]
  },
  {
   "cell_type": "code",
   "execution_count": 11,
   "metadata": {},
   "outputs": [
    {
     "data": {
      "text/plain": [
       "RandomForestClassifier(criterion='entropy', n_estimators=200)"
      ]
     },
     "execution_count": 11,
     "metadata": {},
     "output_type": "execute_result"
    }
   ],
   "source": [
    "randomclassifier = RandomForestClassifier(n_estimators=200,criterion='entropy')\n",
    "randomclassifier.fit(train_dataset,train['Label'])"
   ]
  },
  {
   "cell_type": "markdown",
   "metadata": {},
   "source": [
    "### Preprocessing the test data before prediction"
   ]
  },
  {
   "cell_type": "code",
   "execution_count": 12,
   "metadata": {},
   "outputs": [],
   "source": [
    "test_transform = []\n",
    "for row in range(0,len(test.index)):\n",
    "    test_transform.append(' '.join(str(x) for x in test.iloc[row,2:27]))"
   ]
  },
  {
   "cell_type": "code",
   "execution_count": 13,
   "metadata": {},
   "outputs": [],
   "source": [
    "test_dataset = countvector.transform(test_transform)\n",
    "predictions = randomclassifier.predict(test_dataset)"
   ]
  },
  {
   "cell_type": "code",
   "execution_count": 14,
   "metadata": {},
   "outputs": [
    {
     "data": {
      "text/plain": [
       "array([1, 0, 0, 1, 1], dtype=int64)"
      ]
     },
     "execution_count": 14,
     "metadata": {},
     "output_type": "execute_result"
    }
   ],
   "source": [
    "predictions[0:5]"
   ]
  },
  {
   "cell_type": "markdown",
   "metadata": {},
   "source": [
    "### Evaluating our model using confusion matrix and accuracy score"
   ]
  },
  {
   "cell_type": "code",
   "execution_count": 15,
   "metadata": {},
   "outputs": [
    {
     "name": "stdout",
     "output_type": "stream",
     "text": [
      "[[141  45]\n",
      " [  6 186]]\n",
      "The accuracy score : 0.8650793650793651\n"
     ]
    }
   ],
   "source": [
    "from sklearn.metrics import confusion_matrix,accuracy_score\n",
    "\n",
    "matrix = confusion_matrix(test['Label'],predictions)\n",
    "print(matrix)\n",
    "accuracy = accuracy_score(test['Label'],predictions)\n",
    "print('The accuracy score :',accuracy)"
   ]
  },
  {
   "cell_type": "code",
   "execution_count": 16,
   "metadata": {},
   "outputs": [],
   "source": [
    "def Predict(test_news):\n",
    "    test_news = test_news.lower()\n",
    "    test_data = countvector.transform([test_news])\n",
    "    if(randomclassifier.predict(test_data)[0] == 1):\n",
    "        print('Stock price will increase !!!')\n",
    "    else :\n",
    "        print('Stock price will decrease !!!')"
   ]
  },
  {
   "cell_type": "code",
   "execution_count": 17,
   "metadata": {},
   "outputs": [
    {
     "name": "stdout",
     "output_type": "stream",
     "text": [
      "Stock price will increase !!!\n"
     ]
    }
   ],
   "source": [
    "Predict('HDFC to off-load 0.62% stake in general insurance subsidiary')"
   ]
  },
  {
   "cell_type": "markdown",
   "metadata": {},
   "source": [
    "# (ii) Stock Price Prediction using Numerical Analysis"
   ]
  },
  {
   "cell_type": "markdown",
   "metadata": {},
   "source": [
    "- Our task is to predict the approx stock price based on the historical numerical data\n",
    "- We are going to predict TATAMOTORS's stock price for next 30 days based on thier past 5 years data"
   ]
  },
  {
   "cell_type": "markdown",
   "metadata": {},
   "source": [
    "### Importing necessary libraries"
   ]
  },
  {
   "cell_type": "code",
   "execution_count": 27,
   "metadata": {},
   "outputs": [],
   "source": [
    "import math\n",
    "import pandas_datareader as pdr\n",
    "import numpy as np\n",
    "import matplotlib.pyplot as plt\n",
    "%matplotlib inline\n",
    "from matplotlib.pylab import rcParams\n",
    "rcParams['figure.figsize'] = 20,10"
   ]
  },
  {
   "cell_type": "markdown",
   "metadata": {},
   "source": [
    "### Importing the historical data of TATMOTORS"
   ]
  },
  {
   "cell_type": "code",
   "execution_count": 151,
   "metadata": {},
   "outputs": [
    {
     "data": {
      "text/html": [
       "<div>\n",
       "<style scoped>\n",
       "    .dataframe tbody tr th:only-of-type {\n",
       "        vertical-align: middle;\n",
       "    }\n",
       "\n",
       "    .dataframe tbody tr th {\n",
       "        vertical-align: top;\n",
       "    }\n",
       "\n",
       "    .dataframe thead th {\n",
       "        text-align: right;\n",
       "    }\n",
       "</style>\n",
       "<table border=\"1\" class=\"dataframe\">\n",
       "  <thead>\n",
       "    <tr style=\"text-align: right;\">\n",
       "      <th></th>\n",
       "      <th>High</th>\n",
       "      <th>Low</th>\n",
       "      <th>Open</th>\n",
       "      <th>Close</th>\n",
       "      <th>Volume</th>\n",
       "      <th>Adj Close</th>\n",
       "    </tr>\n",
       "    <tr>\n",
       "      <th>Date</th>\n",
       "      <th></th>\n",
       "      <th></th>\n",
       "      <th></th>\n",
       "      <th></th>\n",
       "      <th></th>\n",
       "      <th></th>\n",
       "    </tr>\n",
       "  </thead>\n",
       "  <tbody>\n",
       "    <tr>\n",
       "      <th>2015-01-01</th>\n",
       "      <td>494.149750</td>\n",
       "      <td>487.026154</td>\n",
       "      <td>489.252289</td>\n",
       "      <td>493.160370</td>\n",
       "      <td>944551.0</td>\n",
       "      <td>492.960724</td>\n",
       "    </tr>\n",
       "    <tr>\n",
       "      <th>2015-01-02</th>\n",
       "      <td>511.909271</td>\n",
       "      <td>491.973083</td>\n",
       "      <td>491.973083</td>\n",
       "      <td>506.368683</td>\n",
       "      <td>4193093.0</td>\n",
       "      <td>506.163696</td>\n",
       "    </tr>\n",
       "    <tr>\n",
       "      <th>2015-01-05</th>\n",
       "      <td>520.417969</td>\n",
       "      <td>501.322815</td>\n",
       "      <td>504.686737</td>\n",
       "      <td>518.241333</td>\n",
       "      <td>6758676.0</td>\n",
       "      <td>518.031555</td>\n",
       "    </tr>\n",
       "    <tr>\n",
       "      <th>2015-01-06</th>\n",
       "      <td>508.891632</td>\n",
       "      <td>493.951874</td>\n",
       "      <td>508.891632</td>\n",
       "      <td>496.079071</td>\n",
       "      <td>7979598.0</td>\n",
       "      <td>495.878235</td>\n",
       "    </tr>\n",
       "    <tr>\n",
       "      <th>2015-01-07</th>\n",
       "      <td>495.089661</td>\n",
       "      <td>484.008514</td>\n",
       "      <td>489.746979</td>\n",
       "      <td>488.609192</td>\n",
       "      <td>9232656.0</td>\n",
       "      <td>488.411377</td>\n",
       "    </tr>\n",
       "    <tr>\n",
       "      <th>...</th>\n",
       "      <td>...</td>\n",
       "      <td>...</td>\n",
       "      <td>...</td>\n",
       "      <td>...</td>\n",
       "      <td>...</td>\n",
       "      <td>...</td>\n",
       "    </tr>\n",
       "    <tr>\n",
       "      <th>2021-05-05</th>\n",
       "      <td>293.899994</td>\n",
       "      <td>288.500000</td>\n",
       "      <td>293.500000</td>\n",
       "      <td>291.500000</td>\n",
       "      <td>29350536.0</td>\n",
       "      <td>291.500000</td>\n",
       "    </tr>\n",
       "    <tr>\n",
       "      <th>2021-05-06</th>\n",
       "      <td>302.000000</td>\n",
       "      <td>290.299988</td>\n",
       "      <td>291.500000</td>\n",
       "      <td>301.250000</td>\n",
       "      <td>45032502.0</td>\n",
       "      <td>301.250000</td>\n",
       "    </tr>\n",
       "    <tr>\n",
       "      <th>2021-05-07</th>\n",
       "      <td>305.950012</td>\n",
       "      <td>300.500000</td>\n",
       "      <td>303.000000</td>\n",
       "      <td>302.750000</td>\n",
       "      <td>41591323.0</td>\n",
       "      <td>302.750000</td>\n",
       "    </tr>\n",
       "    <tr>\n",
       "      <th>2021-05-10</th>\n",
       "      <td>315.700012</td>\n",
       "      <td>304.000000</td>\n",
       "      <td>304.500000</td>\n",
       "      <td>314.850006</td>\n",
       "      <td>53260388.0</td>\n",
       "      <td>314.850006</td>\n",
       "    </tr>\n",
       "    <tr>\n",
       "      <th>2021-05-11</th>\n",
       "      <td>320.750000</td>\n",
       "      <td>308.100006</td>\n",
       "      <td>309.549988</td>\n",
       "      <td>315.549988</td>\n",
       "      <td>58459004.0</td>\n",
       "      <td>315.549988</td>\n",
       "    </tr>\n",
       "  </tbody>\n",
       "</table>\n",
       "<p>1565 rows × 6 columns</p>\n",
       "</div>"
      ],
      "text/plain": [
       "                  High         Low        Open       Close      Volume  \\\n",
       "Date                                                                     \n",
       "2015-01-01  494.149750  487.026154  489.252289  493.160370    944551.0   \n",
       "2015-01-02  511.909271  491.973083  491.973083  506.368683   4193093.0   \n",
       "2015-01-05  520.417969  501.322815  504.686737  518.241333   6758676.0   \n",
       "2015-01-06  508.891632  493.951874  508.891632  496.079071   7979598.0   \n",
       "2015-01-07  495.089661  484.008514  489.746979  488.609192   9232656.0   \n",
       "...                ...         ...         ...         ...         ...   \n",
       "2021-05-05  293.899994  288.500000  293.500000  291.500000  29350536.0   \n",
       "2021-05-06  302.000000  290.299988  291.500000  301.250000  45032502.0   \n",
       "2021-05-07  305.950012  300.500000  303.000000  302.750000  41591323.0   \n",
       "2021-05-10  315.700012  304.000000  304.500000  314.850006  53260388.0   \n",
       "2021-05-11  320.750000  308.100006  309.549988  315.549988  58459004.0   \n",
       "\n",
       "             Adj Close  \n",
       "Date                    \n",
       "2015-01-01  492.960724  \n",
       "2015-01-02  506.163696  \n",
       "2015-01-05  518.031555  \n",
       "2015-01-06  495.878235  \n",
       "2015-01-07  488.411377  \n",
       "...                ...  \n",
       "2021-05-05  291.500000  \n",
       "2021-05-06  301.250000  \n",
       "2021-05-07  302.750000  \n",
       "2021-05-10  314.850006  \n",
       "2021-05-11  315.549988  \n",
       "\n",
       "[1565 rows x 6 columns]"
      ]
     },
     "execution_count": 151,
     "metadata": {},
     "output_type": "execute_result"
    }
   ],
   "source": [
    "df1 = pdr.DataReader('TATAMOTORS.NS', data_source = 'yahoo', start = '2015-01-01', end = '2021-05-11')\n",
    "df1"
   ]
  },
  {
   "cell_type": "markdown",
   "metadata": {},
   "source": [
    "### Filtering the close price from the dataset which we are going to predict"
   ]
  },
  {
   "cell_type": "code",
   "execution_count": 152,
   "metadata": {},
   "outputs": [
    {
     "data": {
      "text/plain": [
       "0       493.160370\n",
       "1       506.368683\n",
       "2       518.241333\n",
       "3       496.079071\n",
       "4       488.609192\n",
       "           ...    \n",
       "1560    291.500000\n",
       "1561    301.250000\n",
       "1562    302.750000\n",
       "1563    314.850006\n",
       "1564    315.549988\n",
       "Name: Close, Length: 1565, dtype: float64"
      ]
     },
     "execution_count": 152,
     "metadata": {},
     "output_type": "execute_result"
    }
   ],
   "source": [
    "df2 = df1.reset_index()['Close']\n",
    "df2"
   ]
  },
  {
   "cell_type": "markdown",
   "metadata": {},
   "source": [
    "### Plotting the close price"
   ]
  },
  {
   "cell_type": "code",
   "execution_count": 153,
   "metadata": {},
   "outputs": [
    {
     "data": {
      "text/plain": [
       "Text(0.5, 1.0, 'Close Price in last 5 years')"
      ]
     },
     "execution_count": 153,
     "metadata": {},
     "output_type": "execute_result"
    },
    {
     "data": {
      "image/png": "[encoded data removed]",
      "text/plain": [
       "<Figure size 1440x720 with 1 Axes>"
      ]
     },
     "metadata": {
      "needs_background": "light"
     },
     "output_type": "display_data"
    }
   ],
   "source": [
    "plt.plot(df1['Close'])\n",
    "plt.xticks(fontsize=16)\n",
    "plt.yticks(fontsize=16)\n",
    "plt.xlabel('Date', fontsize = 20)\n",
    "plt.ylabel('Price in Indian Rupees', fontsize = 20)\n",
    "plt.title('Close Price in last 5 years', fontsize = 25)"
   ]
  },
  {
   "cell_type": "markdown",
   "metadata": {},
   "source": [
    "### Scaling the data inbetween the range of 0 and 1"
   ]
  },
  {
   "cell_type": "code",
   "execution_count": 154,
   "metadata": {},
   "outputs": [],
   "source": [
    "from sklearn.preprocessing import MinMaxScaler\n",
    "scaler=MinMaxScaler(feature_range=(0,1))\n",
    "df2=scaler.fit_transform(np.array(df2).reshape(-1,1))"
   ]
  },
  {
   "cell_type": "code",
   "execution_count": 155,
   "metadata": {},
   "outputs": [
    {
     "data": {
      "text/plain": [
       "array([[0.80298939],\n",
       "       [0.82777817],\n",
       "       [0.85006023],\n",
       "       ...,\n",
       "       [0.44563564],\n",
       "       [0.4683444 ],\n",
       "       [0.46965809]])"
      ]
     },
     "execution_count": 155,
     "metadata": {},
     "output_type": "execute_result"
    }
   ],
   "source": [
    "df2"
   ]
  },
  {
   "cell_type": "markdown",
   "metadata": {},
   "source": [
    "### Splitting the data into train and test data"
   ]
  },
  {
   "cell_type": "code",
   "execution_count": 156,
   "metadata": {},
   "outputs": [],
   "source": [
    "training_size=int(len(df2)*0.7)\n",
    "test_size=len(df2)-training_size\n",
    "train_data,test_data=df2[0:training_size,:],df2[training_size:len(df2),:1]"
   ]
  },
  {
   "cell_type": "code",
   "execution_count": 157,
   "metadata": {},
   "outputs": [
    {
     "data": {
      "text/plain": [
       "(1095, 470)"
      ]
     },
     "execution_count": 157,
     "metadata": {},
     "output_type": "execute_result"
    }
   ],
   "source": [
    "training_size,test_size"
   ]
  },
  {
   "cell_type": "code",
   "execution_count": 158,
   "metadata": {},
   "outputs": [
    {
     "data": {
      "text/plain": [
       "array([[0.80298939],\n",
       "       [0.82777817],\n",
       "       [0.85006023],\n",
       "       ...,\n",
       "       [0.19790388],\n",
       "       [0.19471341],\n",
       "       [0.19161674]])"
      ]
     },
     "execution_count": 158,
     "metadata": {},
     "output_type": "execute_result"
    }
   ],
   "source": [
    "train_data"
   ]
  },
  {
   "cell_type": "markdown",
   "metadata": {},
   "source": [
    "### Creating the independent features using time step\n",
    "### Here time step is set as 100, therefore close price of 100 days is used to predict the close price of 101st day.\n",
    "- (F 1, F 2, F 3 .... F 99, F 100) ---> o/p (101)\n",
    "- (F 2, F 3, F 4 .... F 100, F 101) ---> o/p (102)"
   ]
  },
  {
   "cell_type": "markdown",
   "metadata": {},
   "source": [
    "### Features will be the x_train data and O/P will be the y_train. Same as in test data"
   ]
  },
  {
   "cell_type": "code",
   "execution_count": 159,
   "metadata": {},
   "outputs": [],
   "source": [
    "import numpy\n",
    "def create_dataset(dataset, time_step=1):\n",
    "\tdataX, dataY = [], []\n",
    "\tfor i in range(len(dataset)-time_step-1):\n",
    "\t\ta = dataset[i:(i+time_step), 0]\n",
    "\t\tdataX.append(a)\n",
    "\t\tdataY.append(dataset[i + time_step, 0])\n",
    "\treturn numpy.array(dataX), numpy.array(dataY)"
   ]
  },
  {
   "cell_type": "code",
   "execution_count": 160,
   "metadata": {},
   "outputs": [],
   "source": [
    "time_step = 100\n",
    "X_train, y_train = create_dataset(train_data, time_step)\n",
    "X_test, ytest = create_dataset(test_data, time_step)"
   ]
  },
  {
   "cell_type": "code",
   "execution_count": 161,
   "metadata": {},
   "outputs": [
    {
     "name": "stdout",
     "output_type": "stream",
     "text": [
      "(994, 100)\n",
      "(994,)\n"
     ]
    }
   ],
   "source": [
    "print(X_train.shape)\n",
    "print(y_train.shape)"
   ]
  },
  {
   "cell_type": "code",
   "execution_count": 162,
   "metadata": {},
   "outputs": [],
   "source": [
    "X_train =X_train.reshape(X_train.shape[0],X_train.shape[1] , 1)\n",
    "X_test = X_test.reshape(X_test.shape[0],X_test.shape[1] , 1)"
   ]
  },
  {
   "cell_type": "markdown",
   "metadata": {},
   "source": [
    "### Creating a Recurrent Neural Network (RNN) called LSTM"
   ]
  },
  {
   "cell_type": "code",
   "execution_count": 163,
   "metadata": {},
   "outputs": [],
   "source": [
    "from tensorflow.keras.models import Sequential\n",
    "from tensorflow.keras.layers import Dense\n",
    "from tensorflow.keras.layers import LSTM"
   ]
  },
  {
   "cell_type": "code",
   "execution_count": 164,
   "metadata": {},
   "outputs": [],
   "source": [
    "model=Sequential()\n",
    "model.add(LSTM(50,return_sequences=True,input_shape=(100,1)))\n",
    "model.add(LSTM(50,return_sequences=True))\n",
    "model.add(LSTM(50))\n",
    "model.add(Dense(1))\n",
    "model.compile(loss='mean_squared_error',optimizer='adam')"
   ]
  },
  {
   "cell_type": "markdown",
   "metadata": {},
   "source": [
    "### The model was trained and validated using train and test dataset respectively"
   ]
  },
  {
   "cell_type": "code",
   "execution_count": 165,
   "metadata": {},
   "outputs": [
    {
     "name": "stdout",
     "output_type": "stream",
     "text": [
      "Epoch 1/100\n",
      "16/16 [==============================] - 15s 364ms/step - loss: 0.1278 - val_loss: 0.0059\n",
      "Epoch 2/100\n",
      "16/16 [==============================] - 4s 236ms/step - loss: 0.0123 - val_loss: 0.0055\n",
      "Epoch 3/100\n",
      "16/16 [==============================] - 4s 241ms/step - loss: 0.0064 - val_loss: 0.0038\n",
      "Epoch 4/100\n",
      "16/16 [==============================] - 4s 245ms/step - loss: 0.0037 - val_loss: 0.0022\n",
      "Epoch 5/100\n",
      "16/16 [==============================] - 4s 245ms/step - loss: 0.0024 - val_loss: 0.0023\n",
      "Epoch 6/100\n",
      "16/16 [==============================] - 4s 247ms/step - loss: 0.0024 - val_loss: 0.0022\n",
      "Epoch 7/100\n",
      "16/16 [==============================] - 4s 241ms/step - loss: 0.0024 - val_loss: 0.0022\n",
      "Epoch 8/100\n",
      "16/16 [==============================] - 4s 245ms/step - loss: 0.0023 - val_loss: 0.0020\n",
      "Epoch 9/100\n",
      "16/16 [==============================] - 4s 245ms/step - loss: 0.0022 - val_loss: 0.0019\n",
      "Epoch 10/100\n",
      "16/16 [==============================] - 4s 241ms/step - loss: 0.0020 - val_loss: 0.0020\n",
      "Epoch 11/100\n",
      "16/16 [==============================] - 4s 244ms/step - loss: 0.0023 - val_loss: 0.0018\n",
      "Epoch 12/100\n",
      "16/16 [==============================] - 4s 244ms/step - loss: 0.0019 - val_loss: 0.0016\n",
      "Epoch 13/100\n",
      "16/16 [==============================] - 4s 242ms/step - loss: 0.0018 - val_loss: 0.0015\n",
      "Epoch 14/100\n",
      "16/16 [==============================] - 4s 233ms/step - loss: 0.0017 - val_loss: 0.0014\n",
      "Epoch 15/100\n",
      "16/16 [==============================] - 4s 245ms/step - loss: 0.0016 - val_loss: 0.0014\n",
      "Epoch 16/100\n",
      "16/16 [==============================] - 4s 245ms/step - loss: 0.0020 - val_loss: 0.0014\n",
      "Epoch 17/100\n",
      "16/16 [==============================] - 4s 238ms/step - loss: 0.0018 - val_loss: 0.0014\n",
      "Epoch 18/100\n",
      "16/16 [==============================] - 4s 244ms/step - loss: 0.0016 - val_loss: 0.0013\n",
      "Epoch 19/100\n",
      "16/16 [==============================] - 4s 243ms/step - loss: 0.0015 - val_loss: 0.0013\n",
      "Epoch 20/100\n",
      "16/16 [==============================] - 4s 239ms/step - loss: 0.0024 - val_loss: 0.0014\n",
      "Epoch 21/100\n",
      "16/16 [==============================] - 4s 237ms/step - loss: 0.0018 - val_loss: 0.0013\n",
      "Epoch 22/100\n",
      "16/16 [==============================] - 4s 243ms/step - loss: 0.0015 - val_loss: 0.0012\n",
      "Epoch 23/100\n",
      "16/16 [==============================] - 4s 241ms/step - loss: 0.0015 - val_loss: 0.0012\n",
      "Epoch 24/100\n",
      "16/16 [==============================] - 4s 242ms/step - loss: 0.0016 - val_loss: 0.0011\n",
      "Epoch 25/100\n",
      "16/16 [==============================] - 4s 242ms/step - loss: 0.0014 - val_loss: 0.0011\n",
      "Epoch 26/100\n",
      "16/16 [==============================] - 4s 237ms/step - loss: 0.0014 - val_loss: 0.0011\n",
      "Epoch 27/100\n",
      "16/16 [==============================] - 4s 240ms/step - loss: 0.0013 - val_loss: 0.0011\n",
      "Epoch 28/100\n",
      "16/16 [==============================] - 4s 229ms/step - loss: 0.0013 - val_loss: 0.0011\n",
      "Epoch 29/100\n",
      "16/16 [==============================] - 4s 229ms/step - loss: 0.0013 - val_loss: 0.0010\n",
      "Epoch 30/100\n",
      "16/16 [==============================] - 4s 234ms/step - loss: 0.0013 - val_loss: 0.0010\n",
      "Epoch 31/100\n",
      "16/16 [==============================] - 4s 226ms/step - loss: 0.0014 - val_loss: 0.0010\n",
      "Epoch 32/100\n",
      "16/16 [==============================] - 4s 240ms/step - loss: 0.0012 - val_loss: 0.0010\n",
      "Epoch 33/100\n",
      "16/16 [==============================] - 4s 237ms/step - loss: 0.0010 - val_loss: 9.8226e-04\n",
      "Epoch 34/100\n",
      "16/16 [==============================] - 4s 237ms/step - loss: 0.0012 - val_loss: 9.3052e-04\n",
      "Epoch 35/100\n",
      "16/16 [==============================] - 4s 238ms/step - loss: 0.0012 - val_loss: 9.6275e-04\n",
      "Epoch 36/100\n",
      "16/16 [==============================] - 4s 237ms/step - loss: 0.0010 - val_loss: 9.1359e-04\n",
      "Epoch 37/100\n",
      "16/16 [==============================] - 4s 240ms/step - loss: 0.0011 - val_loss: 8.9356e-04\n",
      "Epoch 38/100\n",
      "16/16 [==============================] - 4s 237ms/step - loss: 0.0011 - val_loss: 9.2508e-04\n",
      "Epoch 39/100\n",
      "16/16 [==============================] - 4s 238ms/step - loss: 0.0012 - val_loss: 8.7026e-04\n",
      "Epoch 40/100\n",
      "16/16 [==============================] - 4s 238ms/step - loss: 9.3513e-04 - val_loss: 8.5019e-04\n",
      "Epoch 41/100\n",
      "16/16 [==============================] - 4s 236ms/step - loss: 0.0012 - val_loss: 8.7599e-04\n",
      "Epoch 42/100\n",
      "16/16 [==============================] - 4s 232ms/step - loss: 9.7978e-04 - val_loss: 8.5708e-04\n",
      "Epoch 43/100\n",
      "16/16 [==============================] - 4s 234ms/step - loss: 0.0011 - val_loss: 8.4021e-04\n",
      "Epoch 44/100\n",
      "16/16 [==============================] - 4s 235ms/step - loss: 0.0012 - val_loss: 8.4230e-04\n",
      "Epoch 45/100\n",
      "16/16 [==============================] - 4s 236ms/step - loss: 9.2818e-04 - val_loss: 9.2612e-04\n",
      "Epoch 46/100\n",
      "16/16 [==============================] - 4s 236ms/step - loss: 9.9393e-04 - val_loss: 8.2474e-04\n",
      "Epoch 47/100\n",
      "16/16 [==============================] - 4s 236ms/step - loss: 9.5545e-04 - val_loss: 7.9097e-04\n",
      "Epoch 48/100\n",
      "16/16 [==============================] - 4s 236ms/step - loss: 8.9607e-04 - val_loss: 7.8819e-04\n",
      "Epoch 49/100\n",
      "16/16 [==============================] - 4s 238ms/step - loss: 0.0012 - val_loss: 8.3930e-04\n",
      "Epoch 50/100\n",
      "16/16 [==============================] - 4s 238ms/step - loss: 0.0012 - val_loss: 7.9453e-04\n",
      "Epoch 51/100\n",
      "16/16 [==============================] - 4s 240ms/step - loss: 9.4655e-04 - val_loss: 8.8451e-04\n",
      "Epoch 52/100\n",
      "16/16 [==============================] - 4s 236ms/step - loss: 0.0011 - val_loss: 7.8174e-04\n",
      "Epoch 53/100\n",
      "16/16 [==============================] - 4s 235ms/step - loss: 9.4796e-04 - val_loss: 8.0013e-04\n",
      "Epoch 54/100\n",
      "16/16 [==============================] - 4s 236ms/step - loss: 8.5130e-04 - val_loss: 7.8944e-04\n",
      "Epoch 55/100\n",
      "16/16 [==============================] - 4s 240ms/step - loss: 8.4714e-04 - val_loss: 8.4469e-04\n",
      "Epoch 56/100\n",
      "16/16 [==============================] - 4s 239ms/step - loss: 0.0011 - val_loss: 7.2623e-04\n",
      "Epoch 57/100\n",
      "16/16 [==============================] - 4s 236ms/step - loss: 0.0011 - val_loss: 7.7243e-04\n",
      "Epoch 58/100\n",
      "16/16 [==============================] - 4s 240ms/step - loss: 0.0010 - val_loss: 7.4421e-04\n",
      "Epoch 59/100\n",
      "16/16 [==============================] - 4s 239ms/step - loss: 7.8213e-04 - val_loss: 7.1975e-04\n",
      "Epoch 60/100\n",
      "16/16 [==============================] - 4s 238ms/step - loss: 8.2720e-04 - val_loss: 7.4938e-04\n",
      "Epoch 61/100\n",
      "16/16 [==============================] - 4s 232ms/step - loss: 8.4030e-04 - val_loss: 7.0115e-04\n",
      "Epoch 62/100\n",
      "16/16 [==============================] - 4s 240ms/step - loss: 9.2577e-04 - val_loss: 7.4724e-04\n",
      "Epoch 63/100\n",
      "16/16 [==============================] - 4s 237ms/step - loss: 8.4552e-04 - val_loss: 7.0289e-04\n",
      "Epoch 64/100\n",
      "16/16 [==============================] - 4s 240ms/step - loss: 8.1582e-04 - val_loss: 6.9142e-04\n",
      "Epoch 65/100\n",
      "16/16 [==============================] - 4s 226ms/step - loss: 8.3033e-04 - val_loss: 6.7840e-04\n",
      "Epoch 66/100\n",
      "16/16 [==============================] - 4s 241ms/step - loss: 7.9504e-04 - val_loss: 7.2993e-04\n",
      "Epoch 67/100\n",
      "16/16 [==============================] - 4s 238ms/step - loss: 8.1644e-04 - val_loss: 6.6137e-04\n",
      "Epoch 68/100\n",
      "16/16 [==============================] - 4s 236ms/step - loss: 7.4665e-04 - val_loss: 6.6351e-04\n",
      "Epoch 69/100\n",
      "16/16 [==============================] - 4s 233ms/step - loss: 7.2165e-04 - val_loss: 6.6015e-04\n",
      "Epoch 70/100\n",
      "16/16 [==============================] - 4s 240ms/step - loss: 6.8926e-04 - val_loss: 7.4521e-04\n",
      "Epoch 71/100\n",
      "16/16 [==============================] - 4s 240ms/step - loss: 8.1619e-04 - val_loss: 6.3653e-04\n",
      "Epoch 72/100\n",
      "16/16 [==============================] - 4s 237ms/step - loss: 7.3168e-04 - val_loss: 6.5768e-04\n",
      "Epoch 73/100\n",
      "16/16 [==============================] - 4s 230ms/step - loss: 7.4298e-04 - val_loss: 6.3839e-04\n",
      "Epoch 74/100\n",
      "16/16 [==============================] - 4s 241ms/step - loss: 7.1456e-04 - val_loss: 6.1535e-04\n",
      "Epoch 75/100\n",
      "16/16 [==============================] - 4s 245ms/step - loss: 6.7105e-04 - val_loss: 5.9770e-04\n",
      "Epoch 76/100\n",
      "16/16 [==============================] - 4s 234ms/step - loss: 7.5148e-04 - val_loss: 6.2519e-04\n",
      "Epoch 77/100\n",
      "16/16 [==============================] - 4s 228ms/step - loss: 8.9901e-04 - val_loss: 6.1837e-04\n",
      "Epoch 78/100\n"
     ]
    },
    {
     "name": "stdout",
     "output_type": "stream",
     "text": [
      "16/16 [==============================] - 4s 235ms/step - loss: 9.0594e-04 - val_loss: 6.3558e-04\n",
      "Epoch 79/100\n",
      "16/16 [==============================] - 4s 237ms/step - loss: 8.2836e-04 - val_loss: 6.8660e-04\n",
      "Epoch 80/100\n",
      "16/16 [==============================] - 4s 237ms/step - loss: 8.1790e-04 - val_loss: 6.1777e-04\n",
      "Epoch 81/100\n",
      "16/16 [==============================] - 4s 231ms/step - loss: 8.0146e-04 - val_loss: 6.1531e-04\n",
      "Epoch 82/100\n",
      "16/16 [==============================] - 4s 236ms/step - loss: 6.8469e-04 - val_loss: 6.0643e-04\n",
      "Epoch 83/100\n",
      "16/16 [==============================] - 4s 236ms/step - loss: 6.7025e-04 - val_loss: 6.3121e-04\n",
      "Epoch 84/100\n",
      "16/16 [==============================] - 4s 235ms/step - loss: 8.4259e-04 - val_loss: 5.8486e-04\n",
      "Epoch 85/100\n",
      "16/16 [==============================] - 4s 236ms/step - loss: 7.8550e-04 - val_loss: 5.8295e-04\n",
      "Epoch 86/100\n",
      "16/16 [==============================] - 4s 237ms/step - loss: 7.0526e-04 - val_loss: 7.0675e-04\n",
      "Epoch 87/100\n",
      "16/16 [==============================] - 4s 235ms/step - loss: 8.2929e-04 - val_loss: 5.8176e-04\n",
      "Epoch 88/100\n",
      "16/16 [==============================] - 4s 234ms/step - loss: 6.1937e-04 - val_loss: 6.0200e-04\n",
      "Epoch 89/100\n",
      "16/16 [==============================] - 4s 232ms/step - loss: 7.1545e-04 - val_loss: 5.5602e-04\n",
      "Epoch 90/100\n",
      "16/16 [==============================] - 4s 236ms/step - loss: 7.0760e-04 - val_loss: 5.8208e-04\n",
      "Epoch 91/100\n",
      "16/16 [==============================] - 4s 238ms/step - loss: 7.0942e-04 - val_loss: 5.4500e-04\n",
      "Epoch 92/100\n",
      "16/16 [==============================] - 4s 239ms/step - loss: 6.0784e-04 - val_loss: 5.5690e-04\n",
      "Epoch 93/100\n",
      "16/16 [==============================] - 4s 236ms/step - loss: 6.3247e-04 - val_loss: 5.3980e-04\n",
      "Epoch 94/100\n",
      "16/16 [==============================] - 4s 237ms/step - loss: 7.6337e-04 - val_loss: 5.5275e-04\n",
      "Epoch 95/100\n",
      "16/16 [==============================] - 4s 233ms/step - loss: 5.8182e-04 - val_loss: 6.8505e-04\n",
      "Epoch 96/100\n",
      "16/16 [==============================] - 4s 238ms/step - loss: 8.0508e-04 - val_loss: 5.3360e-04\n",
      "Epoch 97/100\n",
      "16/16 [==============================] - 4s 235ms/step - loss: 5.0749e-04 - val_loss: 5.2037e-04\n",
      "Epoch 98/100\n",
      "16/16 [==============================] - 4s 238ms/step - loss: 5.7491e-04 - val_loss: 5.1130e-04\n",
      "Epoch 99/100\n",
      "16/16 [==============================] - 4s 236ms/step - loss: 5.1502e-04 - val_loss: 4.9946e-04\n",
      "Epoch 100/100\n",
      "16/16 [==============================] - 4s 236ms/step - loss: 5.3172e-04 - val_loss: 5.1229e-04\n"
     ]
    },
    {
     "data": {
      "text/plain": [
       "<tensorflow.python.keras.callbacks.History at 0x259068110d0>"
      ]
     },
     "execution_count": 165,
     "metadata": {},
     "output_type": "execute_result"
    }
   ],
   "source": [
    "model.fit(X_train,y_train,validation_data=(X_test,ytest),epochs=100,batch_size=64,verbose=1)"
   ]
  },
  {
   "cell_type": "markdown",
   "metadata": {},
   "source": [
    "### Prediction "
   ]
  },
  {
   "cell_type": "code",
   "execution_count": 166,
   "metadata": {},
   "outputs": [],
   "source": [
    "train_predict=model.predict(X_train)\n",
    "test_predict=model.predict(X_test)"
   ]
  },
  {
   "cell_type": "code",
   "execution_count": 167,
   "metadata": {},
   "outputs": [],
   "source": [
    "train_predict=scaler.inverse_transform(train_predict)\n",
    "test_predict=scaler.inverse_transform(test_predict)"
   ]
  },
  {
   "cell_type": "code",
   "execution_count": 189,
   "metadata": {},
   "outputs": [
    {
     "name": "stdout",
     "output_type": "stream",
     "text": [
      "mean_error : 377.9877897277315\n"
     ]
    }
   ],
   "source": [
    "import math\n",
    "from sklearn.metrics import mean_squared_error, accuracy_score\n",
    "print('mean_error :',math.sqrt(mean_squared_error(y_train,train_predict)))"
   ]
  },
  {
   "cell_type": "code",
   "execution_count": 191,
   "metadata": {},
   "outputs": [
    {
     "name": "stdout",
     "output_type": "stream",
     "text": [
      "mean_error : 185.8751127238466\n"
     ]
    }
   ],
   "source": [
    "print('mean_error :',math.sqrt(mean_squared_error(ytest,test_predict)))"
   ]
  },
  {
   "cell_type": "markdown",
   "metadata": {},
   "source": [
    "### Plotting the prediction along with the actual data"
   ]
  },
  {
   "cell_type": "code",
   "execution_count": 193,
   "metadata": {},
   "outputs": [
    {
     "data": {
      "image/png": "[encoded data removed]",
      "text/plain": [
       "<Figure size 1440x720 with 1 Axes>"
      ]
     },
     "metadata": {
      "needs_background": "light"
     },
     "output_type": "display_data"
    }
   ],
   "source": [
    "look_back=100\n",
    "trainPredictPlot = numpy.empty_like(df2)\n",
    "trainPredictPlot[:, :] = np.nan\n",
    "trainPredictPlot[look_back:len(train_predict)+look_back, :] = train_predict\n",
    "# shift test predictions for plotting\n",
    "testPredictPlot = numpy.empty_like(df2)\n",
    "testPredictPlot[:, :] = numpy.nan\n",
    "testPredictPlot[len(train_predict)+(look_back*2)+1:len(df2)-1, :] = test_predict\n",
    "# plot baseline and predictions\n",
    "plt.plot(scaler.inverse_transform(df2))\n",
    "plt.plot(trainPredictPlot)\n",
    "plt.plot(testPredictPlot)\n",
    "plt.legend(labels=['Actual data','Train data prediction','Test data prediction'],fontsize=15)\n",
    "plt.show()"
   ]
  },
  {
   "cell_type": "markdown",
   "metadata": {},
   "source": [
    "### Predicting the close price for next 30 days"
   ]
  },
  {
   "cell_type": "code",
   "execution_count": 171,
   "metadata": {},
   "outputs": [
    {
     "data": {
      "text/plain": [
       "470"
      ]
     },
     "execution_count": 171,
     "metadata": {},
     "output_type": "execute_result"
    }
   ],
   "source": [
    "len(test_data)"
   ]
  },
  {
   "cell_type": "code",
   "execution_count": 172,
   "metadata": {},
   "outputs": [
    {
     "data": {
      "text/plain": [
       "(1, 100)"
      ]
     },
     "execution_count": 172,
     "metadata": {},
     "output_type": "execute_result"
    }
   ],
   "source": [
    "x_input=test_data[370:].reshape(1,-1)\n",
    "x_input.shape"
   ]
  },
  {
   "cell_type": "code",
   "execution_count": 173,
   "metadata": {},
   "outputs": [],
   "source": [
    "temp_input=list(x_input)\n",
    "temp_input=temp_input[0].tolist()"
   ]
  },
  {
   "cell_type": "code",
   "execution_count": 174,
   "metadata": {},
   "outputs": [
    {
     "data": {
      "text/plain": [
       "[0.21085348770977871,\n",
       " 0.2131994323569971,\n",
       " 0.22004960790908665,\n",
       " 0.21845435409417027,\n",
       " 0.21629609647353717,\n",
       " 0.18626800498914156,\n",
       " 0.18701869582144362,\n",
       " 0.1949949076219862,\n",
       " 0.2076630087169656,\n",
       " 0.2271812853640345,\n",
       " 0.22173867660027605,\n",
       " 0.22305239987531442,\n",
       " 0.2224893960695977,\n",
       " 0.22746278726689287,\n",
       " 0.23647122043961546,\n",
       " 0.2400370448485796,\n",
       " 0.2441659017002801,\n",
       " 0.24669953337408382,\n",
       " 0.2493269799241606,\n",
       " 0.2915539835740919,\n",
       " 0.32374036131614026,\n",
       " 0.33274879448886285,\n",
       " 0.3374406837832997,\n",
       " 0.365967336329052,\n",
       " 0.3390359089611964,\n",
       " 0.36287070084953155,\n",
       " 0.3933679812633708,\n",
       " 0.42283306894204975,\n",
       " 0.42048712429483137,\n",
       " 0.40134419306391345,\n",
       " 0.37948000040664576,\n",
       " 0.3781662484945877,\n",
       " 0.3704715958709427,\n",
       " 0.4021887560465277,\n",
       " 0.48176318702536824,\n",
       " 0.4986539884853408,\n",
       " 0.48955171179932555,\n",
       " 0.4703149656921346,\n",
       " 0.5079439521979414,\n",
       " 0.48748726905496553,\n",
       " 0.494712790023206,\n",
       " 0.4873934541786925,\n",
       " 0.48814414501099457,\n",
       " 0.5030643758769193,\n",
       " 0.495275851102962,\n",
       " 0.4970587346704245,\n",
       " 0.48523519655805936,\n",
       " 0.46271412794476263,\n",
       " 0.4489199619643106,\n",
       " 0.4855166984609177,\n",
       " 0.4811063110693393,\n",
       " 0.5026890018237486,\n",
       " 0.48354612786687,\n",
       " 0.4935867251377334,\n",
       " 0.526336135322518,\n",
       " 0.5314972135463986,\n",
       " 0.5140434082807093,\n",
       " 0.48767495608155087,\n",
       " 0.48035562023703726,\n",
       " 0.4690012710541158,\n",
       " 0.48073099429020794,\n",
       " 0.47341160117165504,\n",
       " 0.47528835688942983,\n",
       " 0.47791586071354575,\n",
       " 0.451359721487802,\n",
       " 0.45361185125874737,\n",
       " 0.4572715478180238,\n",
       " 0.44619864326392156,\n",
       " 0.4543625420910494,\n",
       " 0.43005858991029033,\n",
       " 0.4133554182028638,\n",
       " 0.4337182291955275,\n",
       " 0.43493810895727314,\n",
       " 0.4438526986167032,\n",
       " 0.45501941804707846,\n",
       " 0.44995215469947103,\n",
       " 0.45501941804707846,\n",
       " 0.4551132329233515,\n",
       " 0.46665532640689744,\n",
       " 0.4746315382074401,\n",
       " 0.4152321739206386,\n",
       " 0.44582332648479017,\n",
       " 0.4470432062465358,\n",
       " 0.45924211841207163,\n",
       " 0.4431020077844011,\n",
       " 0.43681486467504793,\n",
       " 0.4302462196628364,\n",
       " 0.42921402692767596,\n",
       " 0.4318414734777527,\n",
       " 0.44328969481098646,\n",
       " 0.45154740851438735,\n",
       " 0.4440403856432884,\n",
       " 0.4289325250248176,\n",
       " 0.4273372712099013,\n",
       " 0.4206748113214167,\n",
       " 0.4245221376332391,\n",
       " 0.44282050588154276,\n",
       " 0.44563563945820484,\n",
       " 0.4683443950980869,\n",
       " 0.46965808973610557]"
      ]
     },
     "execution_count": 174,
     "metadata": {},
     "output_type": "execute_result"
    }
   ],
   "source": [
    "temp_input"
   ]
  },
  {
   "cell_type": "code",
   "execution_count": 175,
   "metadata": {},
   "outputs": [
    {
     "name": "stdout",
     "output_type": "stream",
     "text": [
      "[0.4426341]\n",
      "101\n",
      "1 day input [0.21319943 0.22004961 0.21845435 0.2162961  0.186268   0.1870187\n",
      " 0.19499491 0.20766301 0.22718129 0.22173868 0.2230524  0.2224894\n",
      " 0.22746279 0.23647122 0.24003704 0.2441659  0.24669953 0.24932698\n",
      " 0.29155398 0.32374036 0.33274879 0.33744068 0.36596734 0.33903591\n",
      " 0.3628707  0.39336798 0.42283307 0.42048712 0.40134419 0.37948\n",
      " 0.37816625 0.3704716  0.40218876 0.48176319 0.49865399 0.48955171\n",
      " 0.47031497 0.50794395 0.48748727 0.49471279 0.48739345 0.48814415\n",
      " 0.50306438 0.49527585 0.49705873 0.4852352  0.46271413 0.44891996\n",
      " 0.4855167  0.48110631 0.502689   0.48354613 0.49358673 0.52633614\n",
      " 0.53149721 0.51404341 0.48767496 0.48035562 0.46900127 0.48073099\n",
      " 0.4734116  0.47528836 0.47791586 0.45135972 0.45361185 0.45727155\n",
      " 0.44619864 0.45436254 0.43005859 0.41335542 0.43371823 0.43493811\n",
      " 0.4438527  0.45501942 0.44995215 0.45501942 0.45511323 0.46665533\n",
      " 0.47463154 0.41523217 0.44582333 0.44704321 0.45924212 0.44310201\n",
      " 0.43681486 0.43024622 0.42921403 0.43184147 0.44328969 0.45154741\n",
      " 0.44404039 0.42893253 0.42733727 0.42067481 0.42452214 0.44282051\n",
      " 0.44563564 0.4683444  0.46965809 0.44263411]\n",
      "1 day output [[0.44864064]]\n",
      "2 day input [0.22004961 0.21845435 0.2162961  0.186268   0.1870187  0.19499491\n",
      " 0.20766301 0.22718129 0.22173868 0.2230524  0.2224894  0.22746279\n",
      " 0.23647122 0.24003704 0.2441659  0.24669953 0.24932698 0.29155398\n",
      " 0.32374036 0.33274879 0.33744068 0.36596734 0.33903591 0.3628707\n",
      " 0.39336798 0.42283307 0.42048712 0.40134419 0.37948    0.37816625\n",
      " 0.3704716  0.40218876 0.48176319 0.49865399 0.48955171 0.47031497\n",
      " 0.50794395 0.48748727 0.49471279 0.48739345 0.48814415 0.50306438\n",
      " 0.49527585 0.49705873 0.4852352  0.46271413 0.44891996 0.4855167\n",
      " 0.48110631 0.502689   0.48354613 0.49358673 0.52633614 0.53149721\n",
      " 0.51404341 0.48767496 0.48035562 0.46900127 0.48073099 0.4734116\n",
      " 0.47528836 0.47791586 0.45135972 0.45361185 0.45727155 0.44619864\n",
      " 0.45436254 0.43005859 0.41335542 0.43371823 0.43493811 0.4438527\n",
      " 0.45501942 0.44995215 0.45501942 0.45511323 0.46665533 0.47463154\n",
      " 0.41523217 0.44582333 0.44704321 0.45924212 0.44310201 0.43681486\n",
      " 0.43024622 0.42921403 0.43184147 0.44328969 0.45154741 0.44404039\n",
      " 0.42893253 0.42733727 0.42067481 0.42452214 0.44282051 0.44563564\n",
      " 0.4683444  0.46965809 0.44263411 0.44864064]\n",
      "2 day output [[0.45073655]]\n",
      "3 day input [0.21845435 0.2162961  0.186268   0.1870187  0.19499491 0.20766301\n",
      " 0.22718129 0.22173868 0.2230524  0.2224894  0.22746279 0.23647122\n",
      " 0.24003704 0.2441659  0.24669953 0.24932698 0.29155398 0.32374036\n",
      " 0.33274879 0.33744068 0.36596734 0.33903591 0.3628707  0.39336798\n",
      " 0.42283307 0.42048712 0.40134419 0.37948    0.37816625 0.3704716\n",
      " 0.40218876 0.48176319 0.49865399 0.48955171 0.47031497 0.50794395\n",
      " 0.48748727 0.49471279 0.48739345 0.48814415 0.50306438 0.49527585\n",
      " 0.49705873 0.4852352  0.46271413 0.44891996 0.4855167  0.48110631\n",
      " 0.502689   0.48354613 0.49358673 0.52633614 0.53149721 0.51404341\n",
      " 0.48767496 0.48035562 0.46900127 0.48073099 0.4734116  0.47528836\n",
      " 0.47791586 0.45135972 0.45361185 0.45727155 0.44619864 0.45436254\n",
      " 0.43005859 0.41335542 0.43371823 0.43493811 0.4438527  0.45501942\n",
      " 0.44995215 0.45501942 0.45511323 0.46665533 0.47463154 0.41523217\n",
      " 0.44582333 0.44704321 0.45924212 0.44310201 0.43681486 0.43024622\n",
      " 0.42921403 0.43184147 0.44328969 0.45154741 0.44404039 0.42893253\n",
      " 0.42733727 0.42067481 0.42452214 0.44282051 0.44563564 0.4683444\n",
      " 0.46965809 0.44263411 0.44864064 0.45073655]\n",
      "3 day output [[0.4502587]]\n",
      "4 day input [0.2162961  0.186268   0.1870187  0.19499491 0.20766301 0.22718129\n",
      " 0.22173868 0.2230524  0.2224894  0.22746279 0.23647122 0.24003704\n",
      " 0.2441659  0.24669953 0.24932698 0.29155398 0.32374036 0.33274879\n",
      " 0.33744068 0.36596734 0.33903591 0.3628707  0.39336798 0.42283307\n",
      " 0.42048712 0.40134419 0.37948    0.37816625 0.3704716  0.40218876\n",
      " 0.48176319 0.49865399 0.48955171 0.47031497 0.50794395 0.48748727\n",
      " 0.49471279 0.48739345 0.48814415 0.50306438 0.49527585 0.49705873\n",
      " 0.4852352  0.46271413 0.44891996 0.4855167  0.48110631 0.502689\n",
      " 0.48354613 0.49358673 0.52633614 0.53149721 0.51404341 0.48767496\n",
      " 0.48035562 0.46900127 0.48073099 0.4734116  0.47528836 0.47791586\n",
      " 0.45135972 0.45361185 0.45727155 0.44619864 0.45436254 0.43005859\n",
      " 0.41335542 0.43371823 0.43493811 0.4438527  0.45501942 0.44995215\n",
      " 0.45501942 0.45511323 0.46665533 0.47463154 0.41523217 0.44582333\n",
      " 0.44704321 0.45924212 0.44310201 0.43681486 0.43024622 0.42921403\n",
      " 0.43184147 0.44328969 0.45154741 0.44404039 0.42893253 0.42733727\n",
      " 0.42067481 0.42452214 0.44282051 0.44563564 0.4683444  0.46965809\n",
      " 0.44263411 0.44864064 0.45073655 0.4502587 ]\n",
      "4 day output [[0.448395]]\n",
      "5 day input [0.186268   0.1870187  0.19499491 0.20766301 0.22718129 0.22173868\n",
      " 0.2230524  0.2224894  0.22746279 0.23647122 0.24003704 0.2441659\n",
      " 0.24669953 0.24932698 0.29155398 0.32374036 0.33274879 0.33744068\n",
      " 0.36596734 0.33903591 0.3628707  0.39336798 0.42283307 0.42048712\n",
      " 0.40134419 0.37948    0.37816625 0.3704716  0.40218876 0.48176319\n",
      " 0.49865399 0.48955171 0.47031497 0.50794395 0.48748727 0.49471279\n",
      " 0.48739345 0.48814415 0.50306438 0.49527585 0.49705873 0.4852352\n",
      " 0.46271413 0.44891996 0.4855167  0.48110631 0.502689   0.48354613\n",
      " 0.49358673 0.52633614 0.53149721 0.51404341 0.48767496 0.48035562\n",
      " 0.46900127 0.48073099 0.4734116  0.47528836 0.47791586 0.45135972\n",
      " 0.45361185 0.45727155 0.44619864 0.45436254 0.43005859 0.41335542\n",
      " 0.43371823 0.43493811 0.4438527  0.45501942 0.44995215 0.45501942\n",
      " 0.45511323 0.46665533 0.47463154 0.41523217 0.44582333 0.44704321\n",
      " 0.45924212 0.44310201 0.43681486 0.43024622 0.42921403 0.43184147\n",
      " 0.44328969 0.45154741 0.44404039 0.42893253 0.42733727 0.42067481\n",
      " 0.42452214 0.44282051 0.44563564 0.4683444  0.46965809 0.44263411\n",
      " 0.44864064 0.45073655 0.4502587  0.44839501]\n",
      "5 day output [[0.4458917]]\n",
      "6 day input [0.1870187  0.19499491 0.20766301 0.22718129 0.22173868 0.2230524\n",
      " 0.2224894  0.22746279 0.23647122 0.24003704 0.2441659  0.24669953\n",
      " 0.24932698 0.29155398 0.32374036 0.33274879 0.33744068 0.36596734\n",
      " 0.33903591 0.3628707  0.39336798 0.42283307 0.42048712 0.40134419\n",
      " 0.37948    0.37816625 0.3704716  0.40218876 0.48176319 0.49865399\n",
      " 0.48955171 0.47031497 0.50794395 0.48748727 0.49471279 0.48739345\n",
      " 0.48814415 0.50306438 0.49527585 0.49705873 0.4852352  0.46271413\n",
      " 0.44891996 0.4855167  0.48110631 0.502689   0.48354613 0.49358673\n",
      " 0.52633614 0.53149721 0.51404341 0.48767496 0.48035562 0.46900127\n",
      " 0.48073099 0.4734116  0.47528836 0.47791586 0.45135972 0.45361185\n",
      " 0.45727155 0.44619864 0.45436254 0.43005859 0.41335542 0.43371823\n",
      " 0.43493811 0.4438527  0.45501942 0.44995215 0.45501942 0.45511323\n",
      " 0.46665533 0.47463154 0.41523217 0.44582333 0.44704321 0.45924212\n",
      " 0.44310201 0.43681486 0.43024622 0.42921403 0.43184147 0.44328969\n",
      " 0.45154741 0.44404039 0.42893253 0.42733727 0.42067481 0.42452214\n",
      " 0.44282051 0.44563564 0.4683444  0.46965809 0.44263411 0.44864064\n",
      " 0.45073655 0.4502587  0.44839501 0.44589171]\n",
      "6 day output [[0.44313267]]\n",
      "7 day input [0.19499491 0.20766301 0.22718129 0.22173868 0.2230524  0.2224894\n",
      " 0.22746279 0.23647122 0.24003704 0.2441659  0.24669953 0.24932698\n",
      " 0.29155398 0.32374036 0.33274879 0.33744068 0.36596734 0.33903591\n",
      " 0.3628707  0.39336798 0.42283307 0.42048712 0.40134419 0.37948\n",
      " 0.37816625 0.3704716  0.40218876 0.48176319 0.49865399 0.48955171\n",
      " 0.47031497 0.50794395 0.48748727 0.49471279 0.48739345 0.48814415\n",
      " 0.50306438 0.49527585 0.49705873 0.4852352  0.46271413 0.44891996\n",
      " 0.4855167  0.48110631 0.502689   0.48354613 0.49358673 0.52633614\n",
      " 0.53149721 0.51404341 0.48767496 0.48035562 0.46900127 0.48073099\n",
      " 0.4734116  0.47528836 0.47791586 0.45135972 0.45361185 0.45727155\n",
      " 0.44619864 0.45436254 0.43005859 0.41335542 0.43371823 0.43493811\n",
      " 0.4438527  0.45501942 0.44995215 0.45501942 0.45511323 0.46665533\n",
      " 0.47463154 0.41523217 0.44582333 0.44704321 0.45924212 0.44310201\n",
      " 0.43681486 0.43024622 0.42921403 0.43184147 0.44328969 0.45154741\n",
      " 0.44404039 0.42893253 0.42733727 0.42067481 0.42452214 0.44282051\n",
      " 0.44563564 0.4683444  0.46965809 0.44263411 0.44864064 0.45073655\n",
      " 0.4502587  0.44839501 0.44589171 0.44313267]\n",
      "7 day output [[0.44028938]]\n",
      "8 day input [0.20766301 0.22718129 0.22173868 0.2230524  0.2224894  0.22746279\n",
      " 0.23647122 0.24003704 0.2441659  0.24669953 0.24932698 0.29155398\n",
      " 0.32374036 0.33274879 0.33744068 0.36596734 0.33903591 0.3628707\n",
      " 0.39336798 0.42283307 0.42048712 0.40134419 0.37948    0.37816625\n",
      " 0.3704716  0.40218876 0.48176319 0.49865399 0.48955171 0.47031497\n",
      " 0.50794395 0.48748727 0.49471279 0.48739345 0.48814415 0.50306438\n",
      " 0.49527585 0.49705873 0.4852352  0.46271413 0.44891996 0.4855167\n",
      " 0.48110631 0.502689   0.48354613 0.49358673 0.52633614 0.53149721\n",
      " 0.51404341 0.48767496 0.48035562 0.46900127 0.48073099 0.4734116\n",
      " 0.47528836 0.47791586 0.45135972 0.45361185 0.45727155 0.44619864\n",
      " 0.45436254 0.43005859 0.41335542 0.43371823 0.43493811 0.4438527\n",
      " 0.45501942 0.44995215 0.45501942 0.45511323 0.46665533 0.47463154\n",
      " 0.41523217 0.44582333 0.44704321 0.45924212 0.44310201 0.43681486\n",
      " 0.43024622 0.42921403 0.43184147 0.44328969 0.45154741 0.44404039\n",
      " 0.42893253 0.42733727 0.42067481 0.42452214 0.44282051 0.44563564\n",
      " 0.4683444  0.46965809 0.44263411 0.44864064 0.45073655 0.4502587\n",
      " 0.44839501 0.44589171 0.44313267 0.44028938]\n",
      "8 day output [[0.43743527]]\n",
      "9 day input [0.22718129 0.22173868 0.2230524  0.2224894  0.22746279 0.23647122\n",
      " 0.24003704 0.2441659  0.24669953 0.24932698 0.29155398 0.32374036\n",
      " 0.33274879 0.33744068 0.36596734 0.33903591 0.3628707  0.39336798\n",
      " 0.42283307 0.42048712 0.40134419 0.37948    0.37816625 0.3704716\n",
      " 0.40218876 0.48176319 0.49865399 0.48955171 0.47031497 0.50794395\n",
      " 0.48748727 0.49471279 0.48739345 0.48814415 0.50306438 0.49527585\n",
      " 0.49705873 0.4852352  0.46271413 0.44891996 0.4855167  0.48110631\n",
      " 0.502689   0.48354613 0.49358673 0.52633614 0.53149721 0.51404341\n",
      " 0.48767496 0.48035562 0.46900127 0.48073099 0.4734116  0.47528836\n",
      " 0.47791586 0.45135972 0.45361185 0.45727155 0.44619864 0.45436254\n",
      " 0.43005859 0.41335542 0.43371823 0.43493811 0.4438527  0.45501942\n",
      " 0.44995215 0.45501942 0.45511323 0.46665533 0.47463154 0.41523217\n",
      " 0.44582333 0.44704321 0.45924212 0.44310201 0.43681486 0.43024622\n",
      " 0.42921403 0.43184147 0.44328969 0.45154741 0.44404039 0.42893253\n",
      " 0.42733727 0.42067481 0.42452214 0.44282051 0.44563564 0.4683444\n",
      " 0.46965809 0.44263411 0.44864064 0.45073655 0.4502587  0.44839501\n",
      " 0.44589171 0.44313267 0.44028938 0.43743527]\n"
     ]
    },
    {
     "name": "stdout",
     "output_type": "stream",
     "text": [
      "9 day output [[0.4346068]]\n",
      "10 day input [0.22173868 0.2230524  0.2224894  0.22746279 0.23647122 0.24003704\n",
      " 0.2441659  0.24669953 0.24932698 0.29155398 0.32374036 0.33274879\n",
      " 0.33744068 0.36596734 0.33903591 0.3628707  0.39336798 0.42283307\n",
      " 0.42048712 0.40134419 0.37948    0.37816625 0.3704716  0.40218876\n",
      " 0.48176319 0.49865399 0.48955171 0.47031497 0.50794395 0.48748727\n",
      " 0.49471279 0.48739345 0.48814415 0.50306438 0.49527585 0.49705873\n",
      " 0.4852352  0.46271413 0.44891996 0.4855167  0.48110631 0.502689\n",
      " 0.48354613 0.49358673 0.52633614 0.53149721 0.51404341 0.48767496\n",
      " 0.48035562 0.46900127 0.48073099 0.4734116  0.47528836 0.47791586\n",
      " 0.45135972 0.45361185 0.45727155 0.44619864 0.45436254 0.43005859\n",
      " 0.41335542 0.43371823 0.43493811 0.4438527  0.45501942 0.44995215\n",
      " 0.45501942 0.45511323 0.46665533 0.47463154 0.41523217 0.44582333\n",
      " 0.44704321 0.45924212 0.44310201 0.43681486 0.43024622 0.42921403\n",
      " 0.43184147 0.44328969 0.45154741 0.44404039 0.42893253 0.42733727\n",
      " 0.42067481 0.42452214 0.44282051 0.44563564 0.4683444  0.46965809\n",
      " 0.44263411 0.44864064 0.45073655 0.4502587  0.44839501 0.44589171\n",
      " 0.44313267 0.44028938 0.43743527 0.43460679]\n",
      "10 day output [[0.4318281]]\n",
      "11 day input [0.2230524  0.2224894  0.22746279 0.23647122 0.24003704 0.2441659\n",
      " 0.24669953 0.24932698 0.29155398 0.32374036 0.33274879 0.33744068\n",
      " 0.36596734 0.33903591 0.3628707  0.39336798 0.42283307 0.42048712\n",
      " 0.40134419 0.37948    0.37816625 0.3704716  0.40218876 0.48176319\n",
      " 0.49865399 0.48955171 0.47031497 0.50794395 0.48748727 0.49471279\n",
      " 0.48739345 0.48814415 0.50306438 0.49527585 0.49705873 0.4852352\n",
      " 0.46271413 0.44891996 0.4855167  0.48110631 0.502689   0.48354613\n",
      " 0.49358673 0.52633614 0.53149721 0.51404341 0.48767496 0.48035562\n",
      " 0.46900127 0.48073099 0.4734116  0.47528836 0.47791586 0.45135972\n",
      " 0.45361185 0.45727155 0.44619864 0.45436254 0.43005859 0.41335542\n",
      " 0.43371823 0.43493811 0.4438527  0.45501942 0.44995215 0.45501942\n",
      " 0.45511323 0.46665533 0.47463154 0.41523217 0.44582333 0.44704321\n",
      " 0.45924212 0.44310201 0.43681486 0.43024622 0.42921403 0.43184147\n",
      " 0.44328969 0.45154741 0.44404039 0.42893253 0.42733727 0.42067481\n",
      " 0.42452214 0.44282051 0.44563564 0.4683444  0.46965809 0.44263411\n",
      " 0.44864064 0.45073655 0.4502587  0.44839501 0.44589171 0.44313267\n",
      " 0.44028938 0.43743527 0.43460679 0.43182811]\n",
      "11 day output [[0.42911848]]\n",
      "12 day input [0.2224894  0.22746279 0.23647122 0.24003704 0.2441659  0.24669953\n",
      " 0.24932698 0.29155398 0.32374036 0.33274879 0.33744068 0.36596734\n",
      " 0.33903591 0.3628707  0.39336798 0.42283307 0.42048712 0.40134419\n",
      " 0.37948    0.37816625 0.3704716  0.40218876 0.48176319 0.49865399\n",
      " 0.48955171 0.47031497 0.50794395 0.48748727 0.49471279 0.48739345\n",
      " 0.48814415 0.50306438 0.49527585 0.49705873 0.4852352  0.46271413\n",
      " 0.44891996 0.4855167  0.48110631 0.502689   0.48354613 0.49358673\n",
      " 0.52633614 0.53149721 0.51404341 0.48767496 0.48035562 0.46900127\n",
      " 0.48073099 0.4734116  0.47528836 0.47791586 0.45135972 0.45361185\n",
      " 0.45727155 0.44619864 0.45436254 0.43005859 0.41335542 0.43371823\n",
      " 0.43493811 0.4438527  0.45501942 0.44995215 0.45501942 0.45511323\n",
      " 0.46665533 0.47463154 0.41523217 0.44582333 0.44704321 0.45924212\n",
      " 0.44310201 0.43681486 0.43024622 0.42921403 0.43184147 0.44328969\n",
      " 0.45154741 0.44404039 0.42893253 0.42733727 0.42067481 0.42452214\n",
      " 0.44282051 0.44563564 0.4683444  0.46965809 0.44263411 0.44864064\n",
      " 0.45073655 0.4502587  0.44839501 0.44589171 0.44313267 0.44028938\n",
      " 0.43743527 0.43460679 0.43182811 0.42911848]\n",
      "12 day output [[0.42649186]]\n",
      "13 day input [0.22746279 0.23647122 0.24003704 0.2441659  0.24669953 0.24932698\n",
      " 0.29155398 0.32374036 0.33274879 0.33744068 0.36596734 0.33903591\n",
      " 0.3628707  0.39336798 0.42283307 0.42048712 0.40134419 0.37948\n",
      " 0.37816625 0.3704716  0.40218876 0.48176319 0.49865399 0.48955171\n",
      " 0.47031497 0.50794395 0.48748727 0.49471279 0.48739345 0.48814415\n",
      " 0.50306438 0.49527585 0.49705873 0.4852352  0.46271413 0.44891996\n",
      " 0.4855167  0.48110631 0.502689   0.48354613 0.49358673 0.52633614\n",
      " 0.53149721 0.51404341 0.48767496 0.48035562 0.46900127 0.48073099\n",
      " 0.4734116  0.47528836 0.47791586 0.45135972 0.45361185 0.45727155\n",
      " 0.44619864 0.45436254 0.43005859 0.41335542 0.43371823 0.43493811\n",
      " 0.4438527  0.45501942 0.44995215 0.45501942 0.45511323 0.46665533\n",
      " 0.47463154 0.41523217 0.44582333 0.44704321 0.45924212 0.44310201\n",
      " 0.43681486 0.43024622 0.42921403 0.43184147 0.44328969 0.45154741\n",
      " 0.44404039 0.42893253 0.42733727 0.42067481 0.42452214 0.44282051\n",
      " 0.44563564 0.4683444  0.46965809 0.44263411 0.44864064 0.45073655\n",
      " 0.4502587  0.44839501 0.44589171 0.44313267 0.44028938 0.43743527\n",
      " 0.43460679 0.43182811 0.42911848 0.42649186]\n",
      "13 day output [[0.4239564]]\n",
      "14 day input [0.23647122 0.24003704 0.2441659  0.24669953 0.24932698 0.29155398\n",
      " 0.32374036 0.33274879 0.33744068 0.36596734 0.33903591 0.3628707\n",
      " 0.39336798 0.42283307 0.42048712 0.40134419 0.37948    0.37816625\n",
      " 0.3704716  0.40218876 0.48176319 0.49865399 0.48955171 0.47031497\n",
      " 0.50794395 0.48748727 0.49471279 0.48739345 0.48814415 0.50306438\n",
      " 0.49527585 0.49705873 0.4852352  0.46271413 0.44891996 0.4855167\n",
      " 0.48110631 0.502689   0.48354613 0.49358673 0.52633614 0.53149721\n",
      " 0.51404341 0.48767496 0.48035562 0.46900127 0.48073099 0.4734116\n",
      " 0.47528836 0.47791586 0.45135972 0.45361185 0.45727155 0.44619864\n",
      " 0.45436254 0.43005859 0.41335542 0.43371823 0.43493811 0.4438527\n",
      " 0.45501942 0.44995215 0.45501942 0.45511323 0.46665533 0.47463154\n",
      " 0.41523217 0.44582333 0.44704321 0.45924212 0.44310201 0.43681486\n",
      " 0.43024622 0.42921403 0.43184147 0.44328969 0.45154741 0.44404039\n",
      " 0.42893253 0.42733727 0.42067481 0.42452214 0.44282051 0.44563564\n",
      " 0.4683444  0.46965809 0.44263411 0.44864064 0.45073655 0.4502587\n",
      " 0.44839501 0.44589171 0.44313267 0.44028938 0.43743527 0.43460679\n",
      " 0.43182811 0.42911848 0.42649186 0.42395639]\n",
      "14 day output [[0.42151406]]\n",
      "15 day input [0.24003704 0.2441659  0.24669953 0.24932698 0.29155398 0.32374036\n",
      " 0.33274879 0.33744068 0.36596734 0.33903591 0.3628707  0.39336798\n",
      " 0.42283307 0.42048712 0.40134419 0.37948    0.37816625 0.3704716\n",
      " 0.40218876 0.48176319 0.49865399 0.48955171 0.47031497 0.50794395\n",
      " 0.48748727 0.49471279 0.48739345 0.48814415 0.50306438 0.49527585\n",
      " 0.49705873 0.4852352  0.46271413 0.44891996 0.4855167  0.48110631\n",
      " 0.502689   0.48354613 0.49358673 0.52633614 0.53149721 0.51404341\n",
      " 0.48767496 0.48035562 0.46900127 0.48073099 0.4734116  0.47528836\n",
      " 0.47791586 0.45135972 0.45361185 0.45727155 0.44619864 0.45436254\n",
      " 0.43005859 0.41335542 0.43371823 0.43493811 0.4438527  0.45501942\n",
      " 0.44995215 0.45501942 0.45511323 0.46665533 0.47463154 0.41523217\n",
      " 0.44582333 0.44704321 0.45924212 0.44310201 0.43681486 0.43024622\n",
      " 0.42921403 0.43184147 0.44328969 0.45154741 0.44404039 0.42893253\n",
      " 0.42733727 0.42067481 0.42452214 0.44282051 0.44563564 0.4683444\n",
      " 0.46965809 0.44263411 0.44864064 0.45073655 0.4502587  0.44839501\n",
      " 0.44589171 0.44313267 0.44028938 0.43743527 0.43460679 0.43182811\n",
      " 0.42911848 0.42649186 0.42395639 0.42151406]\n",
      "15 day output [[0.41916212]]\n",
      "16 day input [0.2441659  0.24669953 0.24932698 0.29155398 0.32374036 0.33274879\n",
      " 0.33744068 0.36596734 0.33903591 0.3628707  0.39336798 0.42283307\n",
      " 0.42048712 0.40134419 0.37948    0.37816625 0.3704716  0.40218876\n",
      " 0.48176319 0.49865399 0.48955171 0.47031497 0.50794395 0.48748727\n",
      " 0.49471279 0.48739345 0.48814415 0.50306438 0.49527585 0.49705873\n",
      " 0.4852352  0.46271413 0.44891996 0.4855167  0.48110631 0.502689\n",
      " 0.48354613 0.49358673 0.52633614 0.53149721 0.51404341 0.48767496\n",
      " 0.48035562 0.46900127 0.48073099 0.4734116  0.47528836 0.47791586\n",
      " 0.45135972 0.45361185 0.45727155 0.44619864 0.45436254 0.43005859\n",
      " 0.41335542 0.43371823 0.43493811 0.4438527  0.45501942 0.44995215\n",
      " 0.45501942 0.45511323 0.46665533 0.47463154 0.41523217 0.44582333\n",
      " 0.44704321 0.45924212 0.44310201 0.43681486 0.43024622 0.42921403\n",
      " 0.43184147 0.44328969 0.45154741 0.44404039 0.42893253 0.42733727\n",
      " 0.42067481 0.42452214 0.44282051 0.44563564 0.4683444  0.46965809\n",
      " 0.44263411 0.44864064 0.45073655 0.4502587  0.44839501 0.44589171\n",
      " 0.44313267 0.44028938 0.43743527 0.43460679 0.43182811 0.42911848\n",
      " 0.42649186 0.42395639 0.42151406 0.41916212]\n",
      "16 day output [[0.41689345]]\n",
      "17 day input [0.24669953 0.24932698 0.29155398 0.32374036 0.33274879 0.33744068\n",
      " 0.36596734 0.33903591 0.3628707  0.39336798 0.42283307 0.42048712\n",
      " 0.40134419 0.37948    0.37816625 0.3704716  0.40218876 0.48176319\n",
      " 0.49865399 0.48955171 0.47031497 0.50794395 0.48748727 0.49471279\n",
      " 0.48739345 0.48814415 0.50306438 0.49527585 0.49705873 0.4852352\n",
      " 0.46271413 0.44891996 0.4855167  0.48110631 0.502689   0.48354613\n",
      " 0.49358673 0.52633614 0.53149721 0.51404341 0.48767496 0.48035562\n",
      " 0.46900127 0.48073099 0.4734116  0.47528836 0.47791586 0.45135972\n",
      " 0.45361185 0.45727155 0.44619864 0.45436254 0.43005859 0.41335542\n",
      " 0.43371823 0.43493811 0.4438527  0.45501942 0.44995215 0.45501942\n",
      " 0.45511323 0.46665533 0.47463154 0.41523217 0.44582333 0.44704321\n",
      " 0.45924212 0.44310201 0.43681486 0.43024622 0.42921403 0.43184147\n",
      " 0.44328969 0.45154741 0.44404039 0.42893253 0.42733727 0.42067481\n",
      " 0.42452214 0.44282051 0.44563564 0.4683444  0.46965809 0.44263411\n",
      " 0.44864064 0.45073655 0.4502587  0.44839501 0.44589171 0.44313267\n",
      " 0.44028938 0.43743527 0.43460679 0.43182811 0.42911848 0.42649186\n",
      " 0.42395639 0.42151406 0.41916212 0.41689345]\n",
      "17 day output [[0.41469848]]\n",
      "18 day input [0.24932698 0.29155398 0.32374036 0.33274879 0.33744068 0.36596734\n",
      " 0.33903591 0.3628707  0.39336798 0.42283307 0.42048712 0.40134419\n",
      " 0.37948    0.37816625 0.3704716  0.40218876 0.48176319 0.49865399\n",
      " 0.48955171 0.47031497 0.50794395 0.48748727 0.49471279 0.48739345\n",
      " 0.48814415 0.50306438 0.49527585 0.49705873 0.4852352  0.46271413\n",
      " 0.44891996 0.4855167  0.48110631 0.502689   0.48354613 0.49358673\n",
      " 0.52633614 0.53149721 0.51404341 0.48767496 0.48035562 0.46900127\n",
      " 0.48073099 0.4734116  0.47528836 0.47791586 0.45135972 0.45361185\n",
      " 0.45727155 0.44619864 0.45436254 0.43005859 0.41335542 0.43371823\n",
      " 0.43493811 0.4438527  0.45501942 0.44995215 0.45501942 0.45511323\n",
      " 0.46665533 0.47463154 0.41523217 0.44582333 0.44704321 0.45924212\n",
      " 0.44310201 0.43681486 0.43024622 0.42921403 0.43184147 0.44328969\n",
      " 0.45154741 0.44404039 0.42893253 0.42733727 0.42067481 0.42452214\n",
      " 0.44282051 0.44563564 0.4683444  0.46965809 0.44263411 0.44864064\n",
      " 0.45073655 0.4502587  0.44839501 0.44589171 0.44313267 0.44028938\n",
      " 0.43743527 0.43460679 0.43182811 0.42911848 0.42649186 0.42395639\n",
      " 0.42151406 0.41916212 0.41689345 0.41469848]\n",
      "18 day output [[0.4125665]]\n",
      "19 day input [0.29155398 0.32374036 0.33274879 0.33744068 0.36596734 0.33903591\n",
      " 0.3628707  0.39336798 0.42283307 0.42048712 0.40134419 0.37948\n",
      " 0.37816625 0.3704716  0.40218876 0.48176319 0.49865399 0.48955171\n",
      " 0.47031497 0.50794395 0.48748727 0.49471279 0.48739345 0.48814415\n",
      " 0.50306438 0.49527585 0.49705873 0.4852352  0.46271413 0.44891996\n",
      " 0.4855167  0.48110631 0.502689   0.48354613 0.49358673 0.52633614\n",
      " 0.53149721 0.51404341 0.48767496 0.48035562 0.46900127 0.48073099\n",
      " 0.4734116  0.47528836 0.47791586 0.45135972 0.45361185 0.45727155\n",
      " 0.44619864 0.45436254 0.43005859 0.41335542 0.43371823 0.43493811\n",
      " 0.4438527  0.45501942 0.44995215 0.45501942 0.45511323 0.46665533\n",
      " 0.47463154 0.41523217 0.44582333 0.44704321 0.45924212 0.44310201\n",
      " 0.43681486 0.43024622 0.42921403 0.43184147 0.44328969 0.45154741\n",
      " 0.44404039 0.42893253 0.42733727 0.42067481 0.42452214 0.44282051\n",
      " 0.44563564 0.4683444  0.46965809 0.44263411 0.44864064 0.45073655\n",
      " 0.4502587  0.44839501 0.44589171 0.44313267 0.44028938 0.43743527\n",
      " 0.43460679 0.43182811 0.42911848 0.42649186 0.42395639 0.42151406\n",
      " 0.41916212 0.41689345 0.41469848 0.41256651]\n"
     ]
    },
    {
     "name": "stdout",
     "output_type": "stream",
     "text": [
      "19 day output [[0.4104862]]\n",
      "20 day input [0.32374036 0.33274879 0.33744068 0.36596734 0.33903591 0.3628707\n",
      " 0.39336798 0.42283307 0.42048712 0.40134419 0.37948    0.37816625\n",
      " 0.3704716  0.40218876 0.48176319 0.49865399 0.48955171 0.47031497\n",
      " 0.50794395 0.48748727 0.49471279 0.48739345 0.48814415 0.50306438\n",
      " 0.49527585 0.49705873 0.4852352  0.46271413 0.44891996 0.4855167\n",
      " 0.48110631 0.502689   0.48354613 0.49358673 0.52633614 0.53149721\n",
      " 0.51404341 0.48767496 0.48035562 0.46900127 0.48073099 0.4734116\n",
      " 0.47528836 0.47791586 0.45135972 0.45361185 0.45727155 0.44619864\n",
      " 0.45436254 0.43005859 0.41335542 0.43371823 0.43493811 0.4438527\n",
      " 0.45501942 0.44995215 0.45501942 0.45511323 0.46665533 0.47463154\n",
      " 0.41523217 0.44582333 0.44704321 0.45924212 0.44310201 0.43681486\n",
      " 0.43024622 0.42921403 0.43184147 0.44328969 0.45154741 0.44404039\n",
      " 0.42893253 0.42733727 0.42067481 0.42452214 0.44282051 0.44563564\n",
      " 0.4683444  0.46965809 0.44263411 0.44864064 0.45073655 0.4502587\n",
      " 0.44839501 0.44589171 0.44313267 0.44028938 0.43743527 0.43460679\n",
      " 0.43182811 0.42911848 0.42649186 0.42395639 0.42151406 0.41916212\n",
      " 0.41689345 0.41469848 0.41256651 0.41048619]\n",
      "20 day output [[0.4084467]]\n",
      "21 day input [0.33274879 0.33744068 0.36596734 0.33903591 0.3628707  0.39336798\n",
      " 0.42283307 0.42048712 0.40134419 0.37948    0.37816625 0.3704716\n",
      " 0.40218876 0.48176319 0.49865399 0.48955171 0.47031497 0.50794395\n",
      " 0.48748727 0.49471279 0.48739345 0.48814415 0.50306438 0.49527585\n",
      " 0.49705873 0.4852352  0.46271413 0.44891996 0.4855167  0.48110631\n",
      " 0.502689   0.48354613 0.49358673 0.52633614 0.53149721 0.51404341\n",
      " 0.48767496 0.48035562 0.46900127 0.48073099 0.4734116  0.47528836\n",
      " 0.47791586 0.45135972 0.45361185 0.45727155 0.44619864 0.45436254\n",
      " 0.43005859 0.41335542 0.43371823 0.43493811 0.4438527  0.45501942\n",
      " 0.44995215 0.45501942 0.45511323 0.46665533 0.47463154 0.41523217\n",
      " 0.44582333 0.44704321 0.45924212 0.44310201 0.43681486 0.43024622\n",
      " 0.42921403 0.43184147 0.44328969 0.45154741 0.44404039 0.42893253\n",
      " 0.42733727 0.42067481 0.42452214 0.44282051 0.44563564 0.4683444\n",
      " 0.46965809 0.44263411 0.44864064 0.45073655 0.4502587  0.44839501\n",
      " 0.44589171 0.44313267 0.44028938 0.43743527 0.43460679 0.43182811\n",
      " 0.42911848 0.42649186 0.42395639 0.42151406 0.41916212 0.41689345\n",
      " 0.41469848 0.41256651 0.41048619 0.4084467 ]\n",
      "21 day output [[0.4064383]]\n",
      "22 day input [0.33744068 0.36596734 0.33903591 0.3628707  0.39336798 0.42283307\n",
      " 0.42048712 0.40134419 0.37948    0.37816625 0.3704716  0.40218876\n",
      " 0.48176319 0.49865399 0.48955171 0.47031497 0.50794395 0.48748727\n",
      " 0.49471279 0.48739345 0.48814415 0.50306438 0.49527585 0.49705873\n",
      " 0.4852352  0.46271413 0.44891996 0.4855167  0.48110631 0.502689\n",
      " 0.48354613 0.49358673 0.52633614 0.53149721 0.51404341 0.48767496\n",
      " 0.48035562 0.46900127 0.48073099 0.4734116  0.47528836 0.47791586\n",
      " 0.45135972 0.45361185 0.45727155 0.44619864 0.45436254 0.43005859\n",
      " 0.41335542 0.43371823 0.43493811 0.4438527  0.45501942 0.44995215\n",
      " 0.45501942 0.45511323 0.46665533 0.47463154 0.41523217 0.44582333\n",
      " 0.44704321 0.45924212 0.44310201 0.43681486 0.43024622 0.42921403\n",
      " 0.43184147 0.44328969 0.45154741 0.44404039 0.42893253 0.42733727\n",
      " 0.42067481 0.42452214 0.44282051 0.44563564 0.4683444  0.46965809\n",
      " 0.44263411 0.44864064 0.45073655 0.4502587  0.44839501 0.44589171\n",
      " 0.44313267 0.44028938 0.43743527 0.43460679 0.43182811 0.42911848\n",
      " 0.42649186 0.42395639 0.42151406 0.41916212 0.41689345 0.41469848\n",
      " 0.41256651 0.41048619 0.4084467  0.40643829]\n",
      "22 day output [[0.40445226]]\n",
      "23 day input [0.36596734 0.33903591 0.3628707  0.39336798 0.42283307 0.42048712\n",
      " 0.40134419 0.37948    0.37816625 0.3704716  0.40218876 0.48176319\n",
      " 0.49865399 0.48955171 0.47031497 0.50794395 0.48748727 0.49471279\n",
      " 0.48739345 0.48814415 0.50306438 0.49527585 0.49705873 0.4852352\n",
      " 0.46271413 0.44891996 0.4855167  0.48110631 0.502689   0.48354613\n",
      " 0.49358673 0.52633614 0.53149721 0.51404341 0.48767496 0.48035562\n",
      " 0.46900127 0.48073099 0.4734116  0.47528836 0.47791586 0.45135972\n",
      " 0.45361185 0.45727155 0.44619864 0.45436254 0.43005859 0.41335542\n",
      " 0.43371823 0.43493811 0.4438527  0.45501942 0.44995215 0.45501942\n",
      " 0.45511323 0.46665533 0.47463154 0.41523217 0.44582333 0.44704321\n",
      " 0.45924212 0.44310201 0.43681486 0.43024622 0.42921403 0.43184147\n",
      " 0.44328969 0.45154741 0.44404039 0.42893253 0.42733727 0.42067481\n",
      " 0.42452214 0.44282051 0.44563564 0.4683444  0.46965809 0.44263411\n",
      " 0.44864064 0.45073655 0.4502587  0.44839501 0.44589171 0.44313267\n",
      " 0.44028938 0.43743527 0.43460679 0.43182811 0.42911848 0.42649186\n",
      " 0.42395639 0.42151406 0.41916212 0.41689345 0.41469848 0.41256651\n",
      " 0.41048619 0.4084467  0.40643829 0.40445226]\n",
      "23 day output [[0.4024817]]\n",
      "24 day input [0.33903591 0.3628707  0.39336798 0.42283307 0.42048712 0.40134419\n",
      " 0.37948    0.37816625 0.3704716  0.40218876 0.48176319 0.49865399\n",
      " 0.48955171 0.47031497 0.50794395 0.48748727 0.49471279 0.48739345\n",
      " 0.48814415 0.50306438 0.49527585 0.49705873 0.4852352  0.46271413\n",
      " 0.44891996 0.4855167  0.48110631 0.502689   0.48354613 0.49358673\n",
      " 0.52633614 0.53149721 0.51404341 0.48767496 0.48035562 0.46900127\n",
      " 0.48073099 0.4734116  0.47528836 0.47791586 0.45135972 0.45361185\n",
      " 0.45727155 0.44619864 0.45436254 0.43005859 0.41335542 0.43371823\n",
      " 0.43493811 0.4438527  0.45501942 0.44995215 0.45501942 0.45511323\n",
      " 0.46665533 0.47463154 0.41523217 0.44582333 0.44704321 0.45924212\n",
      " 0.44310201 0.43681486 0.43024622 0.42921403 0.43184147 0.44328969\n",
      " 0.45154741 0.44404039 0.42893253 0.42733727 0.42067481 0.42452214\n",
      " 0.44282051 0.44563564 0.4683444  0.46965809 0.44263411 0.44864064\n",
      " 0.45073655 0.4502587  0.44839501 0.44589171 0.44313267 0.44028938\n",
      " 0.43743527 0.43460679 0.43182811 0.42911848 0.42649186 0.42395639\n",
      " 0.42151406 0.41916212 0.41689345 0.41469848 0.41256651 0.41048619\n",
      " 0.4084467  0.40643829 0.40445226 0.4024817 ]\n",
      "24 day output [[0.4005208]]\n",
      "25 day input [0.3628707  0.39336798 0.42283307 0.42048712 0.40134419 0.37948\n",
      " 0.37816625 0.3704716  0.40218876 0.48176319 0.49865399 0.48955171\n",
      " 0.47031497 0.50794395 0.48748727 0.49471279 0.48739345 0.48814415\n",
      " 0.50306438 0.49527585 0.49705873 0.4852352  0.46271413 0.44891996\n",
      " 0.4855167  0.48110631 0.502689   0.48354613 0.49358673 0.52633614\n",
      " 0.53149721 0.51404341 0.48767496 0.48035562 0.46900127 0.48073099\n",
      " 0.4734116  0.47528836 0.47791586 0.45135972 0.45361185 0.45727155\n",
      " 0.44619864 0.45436254 0.43005859 0.41335542 0.43371823 0.43493811\n",
      " 0.4438527  0.45501942 0.44995215 0.45501942 0.45511323 0.46665533\n",
      " 0.47463154 0.41523217 0.44582333 0.44704321 0.45924212 0.44310201\n",
      " 0.43681486 0.43024622 0.42921403 0.43184147 0.44328969 0.45154741\n",
      " 0.44404039 0.42893253 0.42733727 0.42067481 0.42452214 0.44282051\n",
      " 0.44563564 0.4683444  0.46965809 0.44263411 0.44864064 0.45073655\n",
      " 0.4502587  0.44839501 0.44589171 0.44313267 0.44028938 0.43743527\n",
      " 0.43460679 0.43182811 0.42911848 0.42649186 0.42395639 0.42151406\n",
      " 0.41916212 0.41689345 0.41469848 0.41256651 0.41048619 0.4084467\n",
      " 0.40643829 0.40445226 0.4024817  0.4005208 ]\n",
      "25 day output [[0.3985656]]\n",
      "26 day input [0.39336798 0.42283307 0.42048712 0.40134419 0.37948    0.37816625\n",
      " 0.3704716  0.40218876 0.48176319 0.49865399 0.48955171 0.47031497\n",
      " 0.50794395 0.48748727 0.49471279 0.48739345 0.48814415 0.50306438\n",
      " 0.49527585 0.49705873 0.4852352  0.46271413 0.44891996 0.4855167\n",
      " 0.48110631 0.502689   0.48354613 0.49358673 0.52633614 0.53149721\n",
      " 0.51404341 0.48767496 0.48035562 0.46900127 0.48073099 0.4734116\n",
      " 0.47528836 0.47791586 0.45135972 0.45361185 0.45727155 0.44619864\n",
      " 0.45436254 0.43005859 0.41335542 0.43371823 0.43493811 0.4438527\n",
      " 0.45501942 0.44995215 0.45501942 0.45511323 0.46665533 0.47463154\n",
      " 0.41523217 0.44582333 0.44704321 0.45924212 0.44310201 0.43681486\n",
      " 0.43024622 0.42921403 0.43184147 0.44328969 0.45154741 0.44404039\n",
      " 0.42893253 0.42733727 0.42067481 0.42452214 0.44282051 0.44563564\n",
      " 0.4683444  0.46965809 0.44263411 0.44864064 0.45073655 0.4502587\n",
      " 0.44839501 0.44589171 0.44313267 0.44028938 0.43743527 0.43460679\n",
      " 0.43182811 0.42911848 0.42649186 0.42395639 0.42151406 0.41916212\n",
      " 0.41689345 0.41469848 0.41256651 0.41048619 0.4084467  0.40643829\n",
      " 0.40445226 0.4024817  0.4005208  0.39856559]\n",
      "26 day output [[0.39661288]]\n",
      "27 day input [0.42283307 0.42048712 0.40134419 0.37948    0.37816625 0.3704716\n",
      " 0.40218876 0.48176319 0.49865399 0.48955171 0.47031497 0.50794395\n",
      " 0.48748727 0.49471279 0.48739345 0.48814415 0.50306438 0.49527585\n",
      " 0.49705873 0.4852352  0.46271413 0.44891996 0.4855167  0.48110631\n",
      " 0.502689   0.48354613 0.49358673 0.52633614 0.53149721 0.51404341\n",
      " 0.48767496 0.48035562 0.46900127 0.48073099 0.4734116  0.47528836\n",
      " 0.47791586 0.45135972 0.45361185 0.45727155 0.44619864 0.45436254\n",
      " 0.43005859 0.41335542 0.43371823 0.43493811 0.4438527  0.45501942\n",
      " 0.44995215 0.45501942 0.45511323 0.46665533 0.47463154 0.41523217\n",
      " 0.44582333 0.44704321 0.45924212 0.44310201 0.43681486 0.43024622\n",
      " 0.42921403 0.43184147 0.44328969 0.45154741 0.44404039 0.42893253\n",
      " 0.42733727 0.42067481 0.42452214 0.44282051 0.44563564 0.4683444\n",
      " 0.46965809 0.44263411 0.44864064 0.45073655 0.4502587  0.44839501\n",
      " 0.44589171 0.44313267 0.44028938 0.43743527 0.43460679 0.43182811\n",
      " 0.42911848 0.42649186 0.42395639 0.42151406 0.41916212 0.41689345\n",
      " 0.41469848 0.41256651 0.41048619 0.4084467  0.40643829 0.40445226\n",
      " 0.4024817  0.4005208  0.39856559 0.39661288]\n"
     ]
    },
    {
     "name": "stdout",
     "output_type": "stream",
     "text": [
      "27 day output [[0.3946612]]\n",
      "28 day input [0.42048712 0.40134419 0.37948    0.37816625 0.3704716  0.40218876\n",
      " 0.48176319 0.49865399 0.48955171 0.47031497 0.50794395 0.48748727\n",
      " 0.49471279 0.48739345 0.48814415 0.50306438 0.49527585 0.49705873\n",
      " 0.4852352  0.46271413 0.44891996 0.4855167  0.48110631 0.502689\n",
      " 0.48354613 0.49358673 0.52633614 0.53149721 0.51404341 0.48767496\n",
      " 0.48035562 0.46900127 0.48073099 0.4734116  0.47528836 0.47791586\n",
      " 0.45135972 0.45361185 0.45727155 0.44619864 0.45436254 0.43005859\n",
      " 0.41335542 0.43371823 0.43493811 0.4438527  0.45501942 0.44995215\n",
      " 0.45501942 0.45511323 0.46665533 0.47463154 0.41523217 0.44582333\n",
      " 0.44704321 0.45924212 0.44310201 0.43681486 0.43024622 0.42921403\n",
      " 0.43184147 0.44328969 0.45154741 0.44404039 0.42893253 0.42733727\n",
      " 0.42067481 0.42452214 0.44282051 0.44563564 0.4683444  0.46965809\n",
      " 0.44263411 0.44864064 0.45073655 0.4502587  0.44839501 0.44589171\n",
      " 0.44313267 0.44028938 0.43743527 0.43460679 0.43182811 0.42911848\n",
      " 0.42649186 0.42395639 0.42151406 0.41916212 0.41689345 0.41469848\n",
      " 0.41256651 0.41048619 0.4084467  0.40643829 0.40445226 0.4024817\n",
      " 0.4005208  0.39856559 0.39661288 0.39466119]\n",
      "28 day output [[0.39270976]]\n",
      "29 day input [0.40134419 0.37948    0.37816625 0.3704716  0.40218876 0.48176319\n",
      " 0.49865399 0.48955171 0.47031497 0.50794395 0.48748727 0.49471279\n",
      " 0.48739345 0.48814415 0.50306438 0.49527585 0.49705873 0.4852352\n",
      " 0.46271413 0.44891996 0.4855167  0.48110631 0.502689   0.48354613\n",
      " 0.49358673 0.52633614 0.53149721 0.51404341 0.48767496 0.48035562\n",
      " 0.46900127 0.48073099 0.4734116  0.47528836 0.47791586 0.45135972\n",
      " 0.45361185 0.45727155 0.44619864 0.45436254 0.43005859 0.41335542\n",
      " 0.43371823 0.43493811 0.4438527  0.45501942 0.44995215 0.45501942\n",
      " 0.45511323 0.46665533 0.47463154 0.41523217 0.44582333 0.44704321\n",
      " 0.45924212 0.44310201 0.43681486 0.43024622 0.42921403 0.43184147\n",
      " 0.44328969 0.45154741 0.44404039 0.42893253 0.42733727 0.42067481\n",
      " 0.42452214 0.44282051 0.44563564 0.4683444  0.46965809 0.44263411\n",
      " 0.44864064 0.45073655 0.4502587  0.44839501 0.44589171 0.44313267\n",
      " 0.44028938 0.43743527 0.43460679 0.43182811 0.42911848 0.42649186\n",
      " 0.42395639 0.42151406 0.41916212 0.41689345 0.41469848 0.41256651\n",
      " 0.41048619 0.4084467  0.40643829 0.40445226 0.4024817  0.4005208\n",
      " 0.39856559 0.39661288 0.39466119 0.39270976]\n",
      "29 day output [[0.3907585]]\n",
      "[[0.44263410568237305], [0.4486406445503235], [0.45073655247688293], [0.45025870203971863], [0.4483950138092041], [0.44589170813560486], [0.4431326687335968], [0.44028937816619873], [0.4374352693557739], [0.43460679054260254], [0.431828111410141], [0.42911848425865173], [0.4264918565750122], [0.42395639419555664], [0.4215140640735626], [0.4191621243953705], [0.41689345240592957], [0.4146984815597534], [0.41256651282310486], [0.4104861915111542], [0.40844669938087463], [0.40643829107284546], [0.40445226430892944], [0.40248170495033264], [0.40052080154418945], [0.3985655903816223], [0.39661288261413574], [0.39466118812561035], [0.39270976185798645], [0.3907585144042969]]\n"
     ]
    }
   ],
   "source": [
    "from numpy import array\n",
    "\n",
    "lst_output=[]\n",
    "n_steps=100\n",
    "i=0\n",
    "while(i<30):\n",
    "    \n",
    "    if(len(temp_input)>100):\n",
    "        #print(temp_input)\n",
    "        x_input=np.array(temp_input[1:])\n",
    "        print(\"{} day input {}\".format(i,x_input))\n",
    "        x_input=x_input.reshape(1,-1)\n",
    "        x_input = x_input.reshape((1, n_steps, 1))\n",
    "        #print(x_input)\n",
    "        yhat = model.predict(x_input, verbose=0)\n",
    "        print(\"{} day output {}\".format(i,yhat))\n",
    "        temp_input.extend(yhat[0].tolist())\n",
    "        temp_input=temp_input[1:]\n",
    "        #print(temp_input)\n",
    "        lst_output.extend(yhat.tolist())\n",
    "        i=i+1\n",
    "    else:\n",
    "        x_input = x_input.reshape((1, n_steps,1))\n",
    "        yhat = model.predict(x_input, verbose=0)\n",
    "        print(yhat[0])\n",
    "        temp_input.extend(yhat[0].tolist())\n",
    "        print(len(temp_input))\n",
    "        lst_output.extend(yhat.tolist())\n",
    "        i=i+1\n",
    "    \n",
    "\n",
    "print(lst_output)"
   ]
  },
  {
   "cell_type": "code",
   "execution_count": 176,
   "metadata": {},
   "outputs": [],
   "source": [
    "day_new=np.arange(1,101)\n",
    "day_pred=np.arange(101,131)"
   ]
  },
  {
   "cell_type": "code",
   "execution_count": 177,
   "metadata": {},
   "outputs": [
    {
     "data": {
      "text/plain": [
       "1565"
      ]
     },
     "execution_count": 177,
     "metadata": {},
     "output_type": "execute_result"
    }
   ],
   "source": [
    "len(df2)"
   ]
  },
  {
   "cell_type": "code",
   "execution_count": 194,
   "metadata": {},
   "outputs": [
    {
     "data": {
      "text/plain": [
       "<matplotlib.legend.Legend at 0x25911ce6f40>"
      ]
     },
     "execution_count": 194,
     "metadata": {},
     "output_type": "execute_result"
    },
    {
     "data": {
      "image/png": "[encoded data removed]",
      "text/plain": [
       "<Figure size 1440x720 with 1 Axes>"
      ]
     },
     "metadata": {
      "needs_background": "light"
     },
     "output_type": "display_data"
    }
   ],
   "source": [
    "plt.plot(day_new,scaler.inverse_transform(df2[1465:]))\n",
    "plt.plot(day_pred,scaler.inverse_transform(lst_output))\n",
    "plt.legend(labels = ['Actual data','Prediction for next 30 days'], fontsize=15)"
   ]
  },
  {
   "cell_type": "markdown",
   "metadata": {},
   "source": [
    "### Predicted price for next 30 days"
   ]
  },
  {
   "cell_type": "code",
   "execution_count": 180,
   "metadata": {},
   "outputs": [
    {
     "data": {
      "text/plain": [
       "array([[301.15067956],\n",
       "       [304.35117007],\n",
       "       [305.46794191],\n",
       "       [305.21332676],\n",
       "       [304.22028957],\n",
       "       [302.8864422 ],\n",
       "       [301.4163311 ],\n",
       "       [299.90132809],\n",
       "       [298.38056075],\n",
       "       [296.87344995],\n",
       "       [295.39287413],\n",
       "       [293.94909158],\n",
       "       [292.549534  ],\n",
       "       [291.19855244],\n",
       "       [289.89719494],\n",
       "       [288.64400058],\n",
       "       [287.43517411],\n",
       "       [286.26561815],\n",
       "       [285.12963187],\n",
       "       [284.02116512],\n",
       "       [282.93445356],\n",
       "       [281.86430453],\n",
       "       [280.80608116],\n",
       "       [279.75609936],\n",
       "       [278.71126257],\n",
       "       [277.66945881],\n",
       "       [276.62898895],\n",
       "       [275.58905899],\n",
       "       [274.54927196],\n",
       "       [273.5095802 ]])"
      ]
     },
     "execution_count": 180,
     "metadata": {},
     "output_type": "execute_result"
    }
   ],
   "source": [
    "scaler.inverse_transform(lst_output)"
   ]
  },
  {
   "cell_type": "markdown",
   "metadata": {},
   "source": [
    "### Combing the actual and predicted graph together"
   ]
  },
  {
   "cell_type": "code",
   "execution_count": 181,
   "metadata": {},
   "outputs": [
    {
     "data": {
      "text/plain": [
       "[<matplotlib.lines.Line2D at 0x259114318e0>]"
      ]
     },
     "execution_count": 181,
     "metadata": {},
     "output_type": "execute_result"
    },
    {
     "data": {
      "image/png": "[encoded data removed]",
      "text/plain": [
       "<Figure size 1440x720 with 1 Axes>"
      ]
     },
     "metadata": {
      "needs_background": "light"
     },
     "output_type": "display_data"
    }
   ],
   "source": [
    "df3=df2.tolist()\n",
    "df3.extend(lst_output)\n",
    "plt.plot(df3[1500:])"
   ]
  },
  {
   "cell_type": "code",
   "execution_count": 182,
   "metadata": {},
   "outputs": [
    {
     "data": {
      "text/plain": [
       "[<matplotlib.lines.Line2D at 0x2591150f8b0>]"
      ]
     },
     "execution_count": 182,
     "metadata": {},
     "output_type": "execute_result"
    },
    {
     "data": {
      "image/png": "[encoded data removed]",
      "text/plain": [
       "<Figure size 1440x720 with 1 Axes>"
      ]
     },
     "metadata": {
      "needs_background": "light"
     },
     "output_type": "display_data"
    }
   ],
   "source": [
    "df3=scaler.inverse_transform(df3).tolist()\n",
    "plt.plot(df3)"
   ]
  },
  {
   "cell_type": "code",
   "execution_count": null,
   "metadata": {},
   "outputs": [],
   "source": []
  }
 ],
 "metadata": {
  "kernelspec": {
   "display_name": "Python 3",
   "language": "python",
   "name": "python3"
  },
  "language_info": {
   "codemirror_mode": {
    "name": "ipython",
    "version": 3
   },
   "file_extension": ".py",
   "mimetype": "text/x-python",
   "name": "python",
   "nbconvert_exporter": "python",
   "pygments_lexer": "ipython3",
   "version": "3.8.3"
  }
 },
 "nbformat": 4,
 "nbformat_minor": 4
}
